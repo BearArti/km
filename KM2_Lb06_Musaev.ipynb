{
 "cells": [
  {
   "cell_type": "markdown",
   "id": "c12956ba-2330-4f33-af3c-b80cb034540f",
   "metadata": {},
   "source": [
    "# Лабораторная работа 6\n",
    "# Выравнивание списка, состоящего из итерируемых объектов, на основе рекурсии\n",
    "## Мусаев Артём Азадович, 12.05.2025\n"
   ]
  },
  {
   "cell_type": "markdown",
   "id": "687cf062-b5e0-43c4-96b4-5cbaa60defa6",
   "metadata": {},
   "source": [
    "## Задание 6.1. Выравнивание вложенных списков"
   ]
  },
  {
   "cell_type": "code",
   "execution_count": 1,
   "id": "669b1de8-01ad-4a29-92d6-b9f10c7eb8e8",
   "metadata": {},
   "outputs": [
    {
     "data": {
      "text/plain": [
       "3000"
      ]
     },
     "execution_count": 1,
     "metadata": {},
     "output_type": "execute_result"
    }
   ],
   "source": [
    "import sys\n",
    "sys.getrecursionlimit()\n"
   ]
  },
  {
   "cell_type": "code",
   "execution_count": 2,
   "id": "3afa1254-46fc-4760-9cc5-90a004241594",
   "metadata": {},
   "outputs": [],
   "source": [
    "it_list = [[1],[2,[3]],[[[[[4]]]]],5,6,7]"
   ]
  },
  {
   "cell_type": "code",
   "execution_count": 3,
   "id": "1c4f2e35-9975-409a-a763-51bddbad1bda",
   "metadata": {},
   "outputs": [
    {
     "data": {
      "text/plain": [
       "\u001b[1;31mSignature:\u001b[0m \u001b[0misinstance\u001b[0m\u001b[1;33m(\u001b[0m\u001b[0mobj\u001b[0m\u001b[1;33m,\u001b[0m \u001b[0mclass_or_tuple\u001b[0m\u001b[1;33m,\u001b[0m \u001b[1;33m/\u001b[0m\u001b[1;33m)\u001b[0m\u001b[1;33m\u001b[0m\u001b[1;33m\u001b[0m\u001b[0m\n",
       "\u001b[1;31mDocstring:\u001b[0m\n",
       "Return whether an object is an instance of a class or of a subclass thereof.\n",
       "\n",
       "A tuple, as in ``isinstance(x, (A, B, ...))``, may be given as the target to\n",
       "check against. This is equivalent to ``isinstance(x, A) or isinstance(x, B)\n",
       "or ...`` etc.\n",
       "\u001b[1;31mType:\u001b[0m      builtin_function_or_method"
      ]
     },
     "metadata": {},
     "output_type": "display_data"
    }
   ],
   "source": [
    "?isinstance\n"
   ]
  },
  {
   "cell_type": "code",
   "execution_count": 4,
   "id": "3f4486f3-1153-4eed-8f11-b2d6b39ee045",
   "metadata": {},
   "outputs": [
    {
     "data": {
      "text/plain": [
       "True"
      ]
     },
     "execution_count": 4,
     "metadata": {},
     "output_type": "execute_result"
    }
   ],
   "source": [
    "isinstance(it_list, list)"
   ]
  },
  {
   "cell_type": "code",
   "execution_count": 6,
   "id": "6375528a-1618-4e1c-8d76-eac1be0b24d9",
   "metadata": {},
   "outputs": [],
   "source": [
    "def flatten_list_v1(nested_obj: list):\n",
    "    result = []\n",
    "    if isinstance(nested_obj, list):\n",
    "        for item in nested_obj:\n",
    "            result += flatten_list_v1(item)\n",
    "    else:\n",
    "        result += [nested_obj]\n",
    "    return result\n"
   ]
  },
  {
   "cell_type": "code",
   "execution_count": 7,
   "id": "ed2b9a10-39a8-4437-945b-ab735dc28846",
   "metadata": {},
   "outputs": [
    {
     "data": {
      "text/plain": [
       "[1, 2, 3, 4, 5, 6, 7]"
      ]
     },
     "execution_count": 7,
     "metadata": {},
     "output_type": "execute_result"
    }
   ],
   "source": [
    "flatten_list_v1(it_list)\n"
   ]
  },
  {
   "cell_type": "markdown",
   "id": "5acd2424-c08b-410b-96db-baca2ce61869",
   "metadata": {},
   "source": [
    "## Задание 6.1.2. Генераторная функция на основе рекурсии flatten_list_v2"
   ]
  },
  {
   "cell_type": "markdown",
   "id": "e5ef701d-13f1-4b2b-a5e4-baa3a4624821",
   "metadata": {},
   "source": [
    "На основе функции flatten_list_v1 $\\color{red}{напишем}$ генераторную\n",
    "функцию flatten_list_v2(nested_obj) , которая выравнивает вложенный список и\n",
    "возвращает генератнорый объект для элементов вложенного списка.\n",
    "\n",
    "Реализация генераторной функции flatten_list_v2 будет проще реализации\n",
    "функции flatten_list_v1 , так как не нужно объединять все объекты в единый\n",
    "результирующий список.\n",
    "\n",
    "Протестируйте функцию flatten_list_v2"
   ]
  },
  {
   "cell_type": "code",
   "execution_count": 15,
   "id": "ffcedf47-30ae-4d07-8acc-739c16db2738",
   "metadata": {},
   "outputs": [],
   "source": [
    "def flatten_list_v2a(nested_obj):\n",
    "    if isinstance(nested_obj, list): #проверяется список ли\n",
    "        for item in nested_obj:\n",
    "            yield  flatten_list_v2a(item)  #рекурсия\n",
    "    else:\n",
    "        yield nested_obj"
   ]
  },
  {
   "cell_type": "code",
   "execution_count": 16,
   "id": "5a3bff7a-c9bb-4d6f-a4b6-5f2fe048b4fa",
   "metadata": {},
   "outputs": [
    {
     "data": {
      "text/plain": [
       "[1, 2, 3, 4, 5, 6, 7]"
      ]
     },
     "execution_count": 16,
     "metadata": {},
     "output_type": "execute_result"
    }
   ],
   "source": [
    "[x for x in flatten_list_v2(it_list)]"
   ]
  },
  {
   "cell_type": "code",
   "execution_count": 18,
   "id": "4ac96bf0-85f1-4346-8731-5b347c945735",
   "metadata": {},
   "outputs": [],
   "source": [
    "def flatten_list_v2b(nested_obj):\n",
    "    if isinstance(nested_obj, list):\n",
    "        for item in nested_obj:\n",
    "            yield from flatten_list_v2b(item)  \n",
    "    else:\n",
    "        yield nested_obj"
   ]
  },
  {
   "cell_type": "code",
   "execution_count": 19,
   "id": "163f7434-fa2e-4fed-9cc7-2300718eda1f",
   "metadata": {},
   "outputs": [
    {
     "data": {
      "text/plain": [
       "[1, 2, 3, 4, 5, 6, 7]"
      ]
     },
     "execution_count": 19,
     "metadata": {},
     "output_type": "execute_result"
    }
   ],
   "source": [
    "[x for x in flatten_list_v2(it_list)]"
   ]
  },
  {
   "cell_type": "code",
   "execution_count": 20,
   "id": "eea073da-ef37-44f7-9e2b-67d84c823daa",
   "metadata": {},
   "outputs": [],
   "source": [
    "def flatten_list_v2(nested_obj):\n",
    "    if isinstance(nested_obj, list):\n",
    "        for item in nested_obj:\n",
    "            yield from flatten_list_v2(item)  \n",
    "    else:\n",
    "        yield nested_obj"
   ]
  },
  {
   "cell_type": "markdown",
   "id": "75f79802-9469-480e-9429-c0b0614f4c3a",
   "metadata": {},
   "source": [
    "## Задание 6.1.3. Функция flatten_list: создание, документирование, тестирование"
   ]
  },
  {
   "cell_type": "code",
   "execution_count": 22,
   "id": "52e1b441-7d9e-4588-92fe-0a7d1bbd1401",
   "metadata": {},
   "outputs": [],
   "source": [
    "def flatten_list(nested_obj, gen=False):\n",
    "    def flatten_list_v1(nested_obj):\n",
    "        result = [] \n",
    "        if isinstance(nested_obj,list): \n",
    "            for item in nested_obj: \n",
    "                result += flatten_list_v1(item) # рекурсия\n",
    "        else: \n",
    "            result += [nested_obj] \n",
    "        return result\n",
    "    def flatten_list_v2(nested_obj):\n",
    "        if isinstance(nested_obj, list):\n",
    "            for item in nested_obj:\n",
    "                yield from flatten_list_v2(item)  # рекурсия\n",
    "        else:\n",
    "            yield nested_obj\n",
    "    if not gen:\n",
    "        return flatten_list_v1(nested_obj) # в случае gen=False, возвращает список элементов\n",
    "    else:\n",
    "        return flatten_list_v2(nested_obj) # в случае gen=True, возвращает генераторный объект"
   ]
  },
  {
   "cell_type": "code",
   "execution_count": 23,
   "id": "5e866ca5-ca11-4adf-b19c-82ddd18c7b56",
   "metadata": {},
   "outputs": [
    {
     "data": {
      "text/plain": [
       "[1, 2, 3, 4, 5, 6, 7]"
      ]
     },
     "execution_count": 23,
     "metadata": {},
     "output_type": "execute_result"
    }
   ],
   "source": [
    "flatten_list(it_list)"
   ]
  },
  {
   "cell_type": "code",
   "execution_count": 24,
   "id": "804acea9-b7f3-43bf-b4e2-ceae716dd8d7",
   "metadata": {},
   "outputs": [
    {
     "name": "stdout",
     "output_type": "stream",
     "text": [
      "[1, 2, 3, 4, 5]\n"
     ]
    }
   ],
   "source": [
    "nested = [1, [2, [3, 4]], 5]\n",
    "flattened = flatten_list(nested)\n",
    "print(flattened)  "
   ]
  },
  {
   "cell_type": "code",
   "execution_count": 25,
   "id": "568b5770-01fd-4833-b86e-bdb0731173f5",
   "metadata": {},
   "outputs": [
    {
     "name": "stdout",
     "output_type": "stream",
     "text": [
      "[1, 2, 3, 4, 5]\n"
     ]
    }
   ],
   "source": [
    "nested1 = [[[1], 2], [3, [4, [5]]]]\n",
    "flattened_gen = flatten_list(nested1)\n",
    "print(list(flattened_gen))"
   ]
  },
  {
   "cell_type": "code",
   "execution_count": 28,
   "id": "ff0d91c6-e32a-4da0-8926-4f609560b4dd",
   "metadata": {},
   "outputs": [
    {
     "name": "stdout",
     "output_type": "stream",
     "text": [
      "['a', 1, 2.5, 'b', True, None]\n"
     ]
    }
   ],
   "source": [
    "nested2 = [\"a\", [1, [2.5, \"b\"]], True, None]\n",
    "flattenede = flatten_list(nested2)\n",
    "print(flattenede)"
   ]
  },
  {
   "cell_type": "markdown",
   "id": "95d5ce42-ef98-4aec-aa91-65736d8c3069",
   "metadata": {},
   "source": [
    "## Задание 6.2. Выравнивание вложенных итерируемых объектов произвольного типа"
   ]
  },
  {
   "cell_type": "code",
   "execution_count": 29,
   "id": "65cab08a-b899-4b3f-b600-439c57c351b3",
   "metadata": {},
   "outputs": [
    {
     "data": {
      "text/plain": [
       "[[1], [2, [3]], [[[[[4]]]]], 5, 6, 7]"
      ]
     },
     "execution_count": 29,
     "metadata": {},
     "output_type": "execute_result"
    }
   ],
   "source": [
    "it_list"
   ]
  },
  {
   "cell_type": "code",
   "execution_count": 30,
   "id": "37d817f8-1762-4996-9ccb-9f1b40426b20",
   "metadata": {},
   "outputs": [],
   "source": [
    "it_tuple = (((7),(8)),(9),10)\n"
   ]
  },
  {
   "cell_type": "code",
   "execution_count": 32,
   "id": "b44af823-69ab-4bfb-bd90-21849090e668",
   "metadata": {},
   "outputs": [],
   "source": [
    "it_str = \"abcdefgh\""
   ]
  },
  {
   "cell_type": "code",
   "execution_count": 33,
   "id": "aa037052-68d4-4e6c-9063-d660eb8d47e3",
   "metadata": {},
   "outputs": [],
   "source": [
    "it_dict = {\"key1\": 11, \"key2\": {\"key3\": 12}}"
   ]
  },
  {
   "cell_type": "code",
   "execution_count": 34,
   "id": "43500540-3c6d-4583-9906-e58b1ab36ece",
   "metadata": {},
   "outputs": [],
   "source": [
    "it_gen = ([i,i**2,i**3] for i in range(5))\n"
   ]
  },
  {
   "cell_type": "code",
   "execution_count": 47,
   "id": "228840bf-72f8-4efc-819a-21a382fc352c",
   "metadata": {},
   "outputs": [],
   "source": [
    "it_file = open(\"flatten_file.txt\")\n"
   ]
  },
  {
   "cell_type": "code",
   "execution_count": 48,
   "id": "35966ad1-b081-4956-a657-fa029d1d264a",
   "metadata": {},
   "outputs": [],
   "source": [
    "it = [it_list, it_tuple, it_str, it_dict, it_gen, it_file]\n"
   ]
  },
  {
   "cell_type": "code",
   "execution_count": 49,
   "id": "bb2e6ba6-e84e-4de2-801c-97992920d01b",
   "metadata": {},
   "outputs": [
    {
     "data": {
      "text/plain": [
       "[True, True, True, True, True, True]"
      ]
     },
     "execution_count": 49,
     "metadata": {},
     "output_type": "execute_result"
    }
   ],
   "source": [
    "['__iter__' in dir(x) for x in it]\n"
   ]
  },
  {
   "cell_type": "code",
   "execution_count": 50,
   "id": "20464239-c6a3-4005-9bed-733c50fa44c4",
   "metadata": {},
   "outputs": [
    {
     "data": {
      "text/plain": [
       "[True, True, True, True, True, True]"
      ]
     },
     "execution_count": 50,
     "metadata": {},
     "output_type": "execute_result"
    }
   ],
   "source": [
    "[hasattr(x, '__iter__') for x in it]\n"
   ]
  },
  {
   "cell_type": "code",
   "execution_count": 51,
   "id": "b848ca70-2cf5-463d-8237-5bfdf22425a3",
   "metadata": {},
   "outputs": [
    {
     "data": {
      "text/plain": [
       "\u001b[1;31mSignature:\u001b[0m \u001b[0mhasattr\u001b[0m\u001b[1;33m(\u001b[0m\u001b[0mobj\u001b[0m\u001b[1;33m,\u001b[0m \u001b[0mname\u001b[0m\u001b[1;33m,\u001b[0m \u001b[1;33m/\u001b[0m\u001b[1;33m)\u001b[0m\u001b[1;33m\u001b[0m\u001b[1;33m\u001b[0m\u001b[0m\n",
       "\u001b[1;31mDocstring:\u001b[0m\n",
       "Return whether the object has an attribute with the given name.\n",
       "\n",
       "This is done by calling getattr(obj, name) and catching AttributeError.\n",
       "\u001b[1;31mType:\u001b[0m      builtin_function_or_method"
      ]
     },
     "metadata": {},
     "output_type": "display_data"
    }
   ],
   "source": [
    "?hasattr"
   ]
  },
  {
   "cell_type": "markdown",
   "id": "e22aa37a-039b-4984-9145-7ffa2842b12a",
   "metadata": {},
   "source": [
    "## Задание 6.2.1. Рекурсивная функция flatten_it_v1"
   ]
  },
  {
   "cell_type": "code",
   "execution_count": 52,
   "id": "e42aa030-20e6-4c18-a0c0-6590df4a33af",
   "metadata": {},
   "outputs": [],
   "source": [
    "def flatten_it_v1(nested_obj):\n",
    "    result = []\n",
    "    if hasattr(nested_obj, '__iter__'):\n",
    "        if isinstance(nested_obj, str):\n",
    "            result.append(nested_obj)\n",
    "        elif isinstance(nested_obj, dict):\n",
    "            for key, value in nested_obj.items():\n",
    "                result.append(key)\n",
    "                if hasattr(value, '__iter__') and not isinstance(value, str):\n",
    "                    result.extend(flatten_it_v1(value)) #Если значение словаря value является итерируемым объектом (не строкой), рекурсивно вызывает функцию flatten_it_v1 для этого значения и объединяет полученные выровненные элементы со списком result\n",
    "                else:\n",
    "                    result.append(value)\n",
    "        else:\n",
    "            for item in nested_obj:\n",
    "                if hasattr(item, '__iter__') and not isinstance(item, str):\n",
    "                    result.extend(flatten_it_v1(item))\n",
    "                else:\n",
    "                    result.append(item)\n",
    "    else:\n",
    "        result.append(nested_obj)\n",
    "    return result"
   ]
  },
  {
   "cell_type": "code",
   "execution_count": 53,
   "id": "88e6283d-1e8a-4a78-a69b-a3e58e95e7ac",
   "metadata": {},
   "outputs": [
    {
     "data": {
      "text/plain": [
       "[1,\n",
       " 2,\n",
       " 3,\n",
       " 4,\n",
       " 5,\n",
       " 6,\n",
       " 7,\n",
       " 7,\n",
       " 8,\n",
       " 9,\n",
       " 10,\n",
       " 'abcdefgh',\n",
       " 'key1',\n",
       " 11,\n",
       " 'key2',\n",
       " 'key3',\n",
       " 12,\n",
       " 'become my blade once more']"
      ]
     },
     "execution_count": 53,
     "metadata": {},
     "output_type": "execute_result"
    }
   ],
   "source": [
    "flatten_it_v1(it)"
   ]
  },
  {
   "cell_type": "markdown",
   "id": "07478182-0627-46ba-8a87-522978be2ca9",
   "metadata": {},
   "source": [
    "## Задание 6.2.2. Генераторная функция на основе рекурсии flatten_it_v2"
   ]
  },
  {
   "cell_type": "code",
   "execution_count": 55,
   "id": "0cf5befa-89cc-43ae-aba9-2fab8cfba4fb",
   "metadata": {},
   "outputs": [],
   "source": [
    "def flatten_it_v2(nested_obj):\n",
    "    if hasattr(nested_obj, '__iter__'):\n",
    "        if isinstance(nested_obj, str):\n",
    "            yield nested_obj\n",
    "        elif isinstance(nested_obj, dict):\n",
    "            for key, value in nested_obj.items():\n",
    "                yield key\n",
    "                yield from flatten_it_v2(value)\n",
    "        else:\n",
    "            for item in nested_obj:\n",
    "                yield from flatten_it_v2(item)\n",
    "    else:\n",
    "        yield nested_obj"
   ]
  },
  {
   "cell_type": "code",
   "execution_count": 56,
   "id": "7288c980-dcdc-442a-9318-ac6e4c7542cf",
   "metadata": {},
   "outputs": [
    {
     "data": {
      "text/plain": [
       "<generator object flatten_it_v2 at 0x000002320B945B60>"
      ]
     },
     "execution_count": 56,
     "metadata": {},
     "output_type": "execute_result"
    }
   ],
   "source": [
    "flatten_it_v2(it)"
   ]
  },
  {
   "cell_type": "code",
   "execution_count": 57,
   "id": "b51c539c-bfe6-4e3a-8eb1-9ed4a02752bc",
   "metadata": {},
   "outputs": [
    {
     "data": {
      "text/plain": [
       "[1, 2, 3, 4, 5, 6, 7, 7, 8, 9, 10, 'abcdefgh', 'key1', 11, 'key2', 'key3', 12]"
      ]
     },
     "execution_count": 57,
     "metadata": {},
     "output_type": "execute_result"
    }
   ],
   "source": [
    "list(flatten_it_v2(it))"
   ]
  },
  {
   "cell_type": "markdown",
   "id": "7a86a5d5-9171-40fb-a464-2dc1bb222f05",
   "metadata": {},
   "source": [
    "## Задание 6.2.3. Функция flatten_it: создание, документирование, тестирование"
   ]
  },
  {
   "cell_type": "code",
   "execution_count": 58,
   "id": "4dddf672-815b-4c25-9542-cca72e0ebf4e",
   "metadata": {},
   "outputs": [],
   "source": [
    "def flatten_it(nested_obj, gen=False):\n",
    "    def flatten_it_v1(nested_obj):\n",
    "        result = []\n",
    "        if hasattr(nested_obj, '__iter__'):\n",
    "            if isinstance(nested_obj, str):\n",
    "                result.append(nested_obj)\n",
    "            elif isinstance(nested_obj, dict):\n",
    "                for key, value in nested_obj.items():\n",
    "                    result.append(key)\n",
    "                    if hasattr(value, '__iter__') and not isinstance(value, str):\n",
    "                        result.extend(flatten_it_v1(value)) \n",
    "                    else:\n",
    "                        result.append(value)\n",
    "            else:\n",
    "                for item in nested_obj:\n",
    "                    if hasattr(item, '__iter__') and not isinstance(item, str):\n",
    "                        result.extend(flatten_it_v1(item))\n",
    "                    else:\n",
    "                        result.append(item)\n",
    "        else:\n",
    "            result.append(nested_obj)\n",
    "        return result\n",
    "    \n",
    "    def flatten_it_v2(nested_obj):\n",
    "        if hasattr(nested_obj, '__iter__'):\n",
    "            if isinstance(nested_obj, str):\n",
    "                yield nested_obj\n",
    "            elif isinstance(nested_obj, dict):\n",
    "                for key, value in nested_obj.items():\n",
    "                    yield key\n",
    "                    yield from flatten_it_v2(value)\n",
    "            else:\n",
    "                for item in nested_obj:\n",
    "                    yield from flatten_it_v2(item)\n",
    "        else:\n",
    "            yield nested_obj\n",
    "            \n",
    "    if not gen:\n",
    "        return flatten_it_v1(nested_obj)  # В случае gen=False, использует `flatten_it_v1` для возврата списка\n",
    "    else:\n",
    "        return flatten_it_v2(nested_obj)  # В случае gen=True, использует `flatten_it_v2` для возврата генераторного объекта"
   ]
  },
  {
   "cell_type": "code",
   "execution_count": 59,
   "id": "dc55f691-3237-4733-a753-b8f44d65c491",
   "metadata": {},
   "outputs": [
    {
     "data": {
      "text/plain": [
       "[1, 2, 3, 4, 5, 6, 7, 7, 8, 9, 10, 'abcdefgh', 'key1', 11, 'key2', 'key3', 12]"
      ]
     },
     "execution_count": 59,
     "metadata": {},
     "output_type": "execute_result"
    }
   ],
   "source": [
    "flatten_it(it)"
   ]
  },
  {
   "cell_type": "code",
   "execution_count": 60,
   "id": "034e2b86-4644-49aa-8f31-58f440884206",
   "metadata": {},
   "outputs": [
    {
     "name": "stdout",
     "output_type": "stream",
     "text": [
      "[1, 2, 'hello', 3, 4, 5]\n"
     ]
    }
   ],
   "source": [
    "data = [1, [2, \"hello\"], [3, [4, 5]]]\n",
    "result = flatten_it(data)\n",
    "print(result)"
   ]
  },
  {
   "cell_type": "code",
   "execution_count": 61,
   "id": "1a0435c0-685c-4a78-ac0f-eea89cb19ea2",
   "metadata": {},
   "outputs": [
    {
     "name": "stdout",
     "output_type": "stream",
     "text": [
      "[1, 'x', 2, 3, 4, 5, 6]\n"
     ]
    }
   ],
   "source": [
    "data1 = [1, {\"x\": (2, 3)}, [4, {5, 6}]]\n",
    "result1 = flatten_it(data1, gen=False)\n",
    "print(result1)"
   ]
  },
  {
   "cell_type": "markdown",
   "id": "4bb4bdd3-30a0-4d1f-9b4e-7ef9277a8d61",
   "metadata": {},
   "source": [
    "## Задание 6.3. Обработка циклических объектов\n"
   ]
  },
  {
   "cell_type": "code",
   "execution_count": 63,
   "id": "6e886600-253f-4a20-b331-0ed4ac625893",
   "metadata": {},
   "outputs": [],
   "source": [
    "it_list_cyclic = it_list[:]\n",
    "it_list_cyclic.append(it_list_cyclic)"
   ]
  },
  {
   "cell_type": "code",
   "execution_count": 64,
   "id": "36beb916-5d20-4bf1-bf68-c90d87b061fe",
   "metadata": {},
   "outputs": [
    {
     "data": {
      "text/plain": [
       "[[1], [2, [3]], [[[[[4]]]]], 5, 6, 7, [...]]"
      ]
     },
     "execution_count": 64,
     "metadata": {},
     "output_type": "execute_result"
    }
   ],
   "source": [
    "it_list_cyclic"
   ]
  },
  {
   "cell_type": "code",
   "execution_count": 65,
   "id": "4d4fb2de-d44f-426e-9e23-627858bad79a",
   "metadata": {},
   "outputs": [],
   "source": [
    "def flatten_list_v1(nested_obj):\n",
    "    result = []                                 \n",
    "    if isinstance(nested_obj,list):             \n",
    "        for item in nested_obj:\n",
    "            if item == nested_obj:              \n",
    "                raise ValueError(\"Cyclic list is found\") # генерация исключения \n",
    "            else:\n",
    "                result += flatten_list_v1(item)\n",
    "    else:                                      \n",
    "        result += [nested_obj]\n",
    "    return result"
   ]
  },
  {
   "cell_type": "code",
   "execution_count": 66,
   "id": "e9697b3e-77e5-4459-a48a-3f1b5955e5a5",
   "metadata": {},
   "outputs": [
    {
     "data": {
      "text/plain": [
       "[1, 2, 3, 4, 5, 6, 7]"
      ]
     },
     "execution_count": 66,
     "metadata": {},
     "output_type": "execute_result"
    }
   ],
   "source": [
    "flatten_list_v1(it_list)\n"
   ]
  },
  {
   "cell_type": "code",
   "execution_count": 67,
   "id": "664917f5-3861-4f8f-b87d-106a24379e94",
   "metadata": {},
   "outputs": [
    {
     "ename": "ValueError",
     "evalue": "Cyclic list is found",
     "output_type": "error",
     "traceback": [
      "\u001b[1;31m---------------------------------------------------------------------------\u001b[0m",
      "\u001b[1;31mValueError\u001b[0m                                Traceback (most recent call last)",
      "Cell \u001b[1;32mIn[67], line 1\u001b[0m\n\u001b[1;32m----> 1\u001b[0m \u001b[43mflatten_list_v1\u001b[49m\u001b[43m(\u001b[49m\u001b[43mit_list_cyclic\u001b[49m\u001b[43m)\u001b[49m\n",
      "Cell \u001b[1;32mIn[65], line 6\u001b[0m, in \u001b[0;36mflatten_list_v1\u001b[1;34m(nested_obj)\u001b[0m\n\u001b[0;32m      4\u001b[0m \u001b[38;5;28;01mfor\u001b[39;00m item \u001b[38;5;129;01min\u001b[39;00m nested_obj:\n\u001b[0;32m      5\u001b[0m     \u001b[38;5;28;01mif\u001b[39;00m item \u001b[38;5;241m==\u001b[39m nested_obj:              \n\u001b[1;32m----> 6\u001b[0m         \u001b[38;5;28;01mraise\u001b[39;00m \u001b[38;5;167;01mValueError\u001b[39;00m(\u001b[38;5;124m\"\u001b[39m\u001b[38;5;124mCyclic list is found\u001b[39m\u001b[38;5;124m\"\u001b[39m) \u001b[38;5;66;03m# генерация исключения \u001b[39;00m\n\u001b[0;32m      7\u001b[0m     \u001b[38;5;28;01melse\u001b[39;00m:\n\u001b[0;32m      8\u001b[0m         result \u001b[38;5;241m+\u001b[39m\u001b[38;5;241m=\u001b[39m flatten_list_v1(item)\n",
      "\u001b[1;31mValueError\u001b[0m: Cyclic list is found"
     ]
    }
   ],
   "source": [
    "flatten_list_v1(it_list_cyclic)\n"
   ]
  },
  {
   "cell_type": "code",
   "execution_count": 68,
   "id": "725fdd7a-87e0-49de-8331-4e464f1e6a5a",
   "metadata": {},
   "outputs": [
    {
     "name": "stdout",
     "output_type": "stream",
     "text": [
      "Cyclic list is found\n"
     ]
    }
   ],
   "source": [
    "try:\n",
    " print(flatten_list_v1(it_list_cyclic))\n",
    "except ValueError as e:\n",
    " print(e)"
   ]
  },
  {
   "cell_type": "markdown",
   "id": "82055ff3-ba09-4b36-a65e-ade36d870d80",
   "metadata": {},
   "source": [
    "## Задание 6.3.1. Доопределение функции flatten_it"
   ]
  },
  {
   "cell_type": "code",
   "execution_count": 69,
   "id": "75e299ca-7243-468a-a169-888614ef0b4b",
   "metadata": {},
   "outputs": [],
   "source": [
    "def flatten_it(nested_obj, gen=False):\n",
    "    seen = set()\n",
    "\n",
    "    def flatten_it_v1(nested_obj):\n",
    "        result = []\n",
    "        if hasattr(nested_obj, '__iter__'):\n",
    "            if isinstance(nested_obj, str):\n",
    "                result.append(nested_obj)\n",
    "            elif isinstance(nested_obj, dict):\n",
    "                for key, value in nested_obj.items():\n",
    "                    result.append(key)\n",
    "                    if hasattr(value, '__iter__') and not isinstance(value, str):\n",
    "                        if id(value) in seen: #Если идентификатор значения уже присутствует в множестве `seen`, генерирует исключение `ValueError`\n",
    "                            raise ValueError(\"Cyclic list is found\")\n",
    "                        seen.add(id(value)) #Добавляем идентификатор значения в множество `seen`\n",
    "                        result.extend(flatten_it_v1(value))\n",
    "                    else:\n",
    "                        result.append(value)\n",
    "            else:\n",
    "                for item in nested_obj:\n",
    "                    if hasattr(item, '__iter__') and not isinstance(item, str):\n",
    "                        if id(item) in seen:\n",
    "                            raise ValueError(\"Cyclic list is found\")\n",
    "                        seen.add(id(item))\n",
    "                        result.extend(flatten_it_v1(item))\n",
    "                    else:\n",
    "                        result.append(item)\n",
    "        else:\n",
    "            result.append(nested_obj)\n",
    "        return result\n",
    "    def flatten_it_v2(nested_obj):\n",
    "        if hasattr(nested_obj, '__iter__'):\n",
    "            if isinstance(nested_obj, str):\n",
    "                yield nested_obj\n",
    "            elif isinstance(nested_obj, dict):\n",
    "                for key, value in nested_obj.items():\n",
    "                    yield key\n",
    "                    if id(value) in seen:\n",
    "                        raise ValueError(\"Cyclic list is found\")\n",
    "                    seen.add(id(value))\n",
    "                    yield from flatten_it_v2(value)\n",
    "            else:\n",
    "                for item in nested_obj:\n",
    "                    if id(item) in seen:\n",
    "                        raise ValueError(\"Cyclic list is found\")\n",
    "                    seen.add(id(item))\n",
    "                    yield from flatten_it_v2(item)\n",
    "        else:\n",
    "            yield nested_obj\n",
    "\n",
    "    if not gen:\n",
    "        return flatten_it_v1(nested_obj)\n",
    "    else:\n",
    "        return flatten_it_v2(nested_obj)"
   ]
  },
  {
   "cell_type": "markdown",
   "id": "14c2218c-5f4d-47b2-8551-5f87774f6f45",
   "metadata": {},
   "source": [
    "## Задание 6.3.2. Тестирование функции flatten_it"
   ]
  },
  {
   "cell_type": "code",
   "execution_count": 70,
   "id": "513eec80-0440-4f21-a8ed-38b73c73e1ae",
   "metadata": {},
   "outputs": [
    {
     "name": "stdout",
     "output_type": "stream",
     "text": [
      "Cyclic list is found\n"
     ]
    }
   ],
   "source": [
    "cyclic_list = [1, 4, -11]\n",
    "cyclic_list.append(cyclic_list)\n",
    "try:\n",
    "    flattened_cyclic_list = flatten_it(cyclic_list)\n",
    "    print(flattened_cyclic_list)\n",
    "except ValueError as e:\n",
    "    print(str(e))"
   ]
  },
  {
   "cell_type": "code",
   "execution_count": 72,
   "id": "2d99c71d-f7a1-4c69-bc2f-03f7e7dddeaa",
   "metadata": {},
   "outputs": [
    {
     "name": "stdout",
     "output_type": "stream",
     "text": [
      "Cyclic list is found\n"
     ]
    }
   ],
   "source": [
    "cyclic_dict = {'a': 1, 'b': 2}\n",
    "cyclic_dict['c'] = cyclic_dict\n",
    "try:\n",
    "    flattened_cyclic_dict = flatten_it(cyclic_dict)\n",
    "    print(flattened_cyclic_dict)\n",
    "except ValueError as e:\n",
    "    print(str(e))"
   ]
  },
  {
   "cell_type": "code",
   "execution_count": null,
   "id": "8b323ab4-c610-440c-98cf-e68d8e1464ca",
   "metadata": {},
   "outputs": [],
   "source": []
  }
 ],
 "metadata": {
  "kernelspec": {
   "display_name": "Python 3 (ipykernel)",
   "language": "python",
   "name": "python3"
  },
  "language_info": {
   "codemirror_mode": {
    "name": "ipython",
    "version": 3
   },
   "file_extension": ".py",
   "mimetype": "text/x-python",
   "name": "python",
   "nbconvert_exporter": "python",
   "pygments_lexer": "ipython3",
   "version": "3.10.16"
  }
 },
 "nbformat": 4,
 "nbformat_minor": 5
}
