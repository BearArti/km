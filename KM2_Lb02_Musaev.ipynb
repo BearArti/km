{
 "cells": [
  {
   "cell_type": "markdown",
   "id": "c0820d72-7365-4f9d-bd3e-ac3226d1c7f2",
   "metadata": {},
   "source": [
    "# Лабораторная работа 2\n",
    "# Встроенные типы обьектов в Python\n",
    "**Мусаев Артём Азадович** **14.03.2025**"
   ]
  },
  {
   "cell_type": "markdown",
   "id": "c80226e5-75fa-4b36-bbe9-9783a4062364",
   "metadata": {},
   "source": [
    "# *Задание 1*\n"
   ]
  },
  {
   "cell_type": "markdown",
   "id": "5383291f-f9a5-4cda-9bfd-fe68a62ae078",
   "metadata": {},
   "source": [
    "# иерархическая модель типов встроенных объектов Python.\n"
   ]
  },
  {
   "cell_type": "markdown",
   "id": "b71d30d5-6c22-41c5-85b8-4a5e0e870cff",
   "metadata": {},
   "source": [
    " Встроенные типы объектов делятся на:\n",
    " \n",
    " 1. Числа:\n",
    "    \n",
    "     - Целые числа(`int`), неизменяемые\n",
    "       \n",
    "     - числа с плавающей точкой(`float`), неизменяемые\n",
    "      \n",
    "     - комплексные числа(`complex`), неизменяемые\n",
    "   \n",
    "     - Булевый тип(`bool`) - наследуется от `int`, неизменяемые\n",
    "       "
   ]
  },
  {
   "cell_type": "markdown",
   "id": "33601560-30f1-4dec-aed8-896b50c2ca2f",
   "metadata": {},
   "source": [
    " 2. Коллекции:\n",
    "    \n",
    "     - Последовательности:\n",
    "   \n",
    "       - строки(`str`), неупорядоченные, неизменяемые.\n",
    "         \n",
    "       - списки(`list`), упорядоченные, изменяемые.\n",
    "         \n",
    "       - кортежи(`tuple`), упорядоченные, неизменяемые.\n",
    "       \n",
    "     - Отображения:\n",
    "   \n",
    "        - словари(`dict`), неупорядоченные, изменяемые.\n",
    "      \n",
    "     - Множества:\n",
    "   \n",
    "        - множества(`set`), неупорядоченные, изменяемые.\n",
    "   \n",
    "     "
   ]
  },
  {
   "cell_type": "markdown",
   "id": "c7846197-2caf-474a-88f6-3e489d6bccf1",
   "metadata": {},
   "source": [
    "Пример литералов для создания обьекта:\n",
    "\n",
    "- `42` - для `int`\n",
    "\n",
    "- `3.14` - для `float`\n",
    "\n",
    "- `1 + 1j` - для `complex`\n",
    "\n",
    "- `True` , `False` - для `bool`\n",
    "\n",
    "- `\"Hello\"` - для `str`\n",
    "\n",
    "- `[1,2,3]` - для `list`\n",
    "\n",
    "- `(1,2,3)` - для `tuple`\n",
    "\n",
    "- `{'a': 1, 'b': 2}` - для `dict`\n",
    "\n",
    "- `{1, 2, 3}` - для `set`\n",
    "    "
   ]
  },
  {
   "cell_type": "markdown",
   "id": "1bdf7b34-0eeb-4ac1-95f8-6916578c44ee",
   "metadata": {},
   "source": [
    "# Задание 2.\n",
    "# Задание 2.1"
   ]
  },
  {
   "cell_type": "markdown",
   "id": "6f587fa9-cec1-46ab-82e9-02cdd4ed55c2",
   "metadata": {},
   "source": [
    "# Тема 2. Объект как фундаментальное понятие в Python. Встроенные типы обьектов:\n",
    "\n",
    " - ## 2.1 Понятие объекта. Атрибуты. Методы. Встроенные типы объектов\n",
    "\n",
    " - ## 2.2 Встроенные типы объектов, представляющих числа\n",
    " \n",
    " - ## 2.3 Встроенные типы последовательностей: str, list, tuple\n",
    "\n",
    " - ## 2.4 Встроенный тип отображения: dict\n",
    "\n",
    " - ## 2.5 Встроенный тип множества: set\n",
    "\n",
    " - ## 2.6 Встроенный булевый тип\n",
    "\n",
    " - ## 2.7 Изменяемые и неизменяемые встроенные типы объектов\n",
    "\n",
    " - ## 2.8 Интерфейс объекта: операции и методы\n",
    "\n",
    " - ## 2.9 Переменная\n",
    "\n",
    " - ## 2.10 Выражение спискового включения\n",
    "\n",
    " - ## 2.11 Форматированный вывод строк\n",
    "\n",
    " - ## 2.12 Файловый объект\n"
   ]
  },
  {
   "cell_type": "markdown",
   "id": "f9f4e35e-b714-4465-bfb8-818953f2a011",
   "metadata": {},
   "source": [
    "# Задание 2.2"
   ]
  },
  {
   "cell_type": "markdown",
   "id": "bc87bfab-490c-44ae-b096-0585ea1784ab",
   "metadata": {},
   "source": [
    "## 2.2 Встроенные типы объектов, представляющих числа"
   ]
  },
  {
   "cell_type": "code",
   "execution_count": 1,
   "id": "03559730-4bcf-49ee-9ce5-1799e596f806",
   "metadata": {},
   "outputs": [
    {
     "name": "stdout",
     "output_type": "stream",
     "text": [
      "0.1 0.2\n",
      "0.3 0.02 0.5\n"
     ]
    }
   ],
   "source": [
    "import decimal\n",
    "\n",
    "a = decimal.Decimal('0.1')\n",
    "b = decimal.Decimal('0.2')\n",
    "\n",
    "sum = a + b\n",
    "multi = a * b\n",
    "division = a / b\n",
    "\n",
    "print (a, b)\n",
    "print(sum, multi, division)\n",
    "\n"
   ]
  },
  {
   "cell_type": "code",
   "execution_count": 2,
   "id": "c4c01532-c593-4469-bc83-3dbe8ecf57d7",
   "metadata": {},
   "outputs": [
    {
     "name": "stdout",
     "output_type": "stream",
     "text": [
      "1/2 2/3\n",
      "7/6 1/3 3/4\n"
     ]
    }
   ],
   "source": [
    "from fractions import Fraction\n",
    "\n",
    "\n",
    "x = Fraction(1, 2)\n",
    "y = Fraction(2, 3)\n",
    "\n",
    "\n",
    "sum = x + y\n",
    "multi = x * y\n",
    "division = x / y\n",
    "\n",
    "print(x, y)\n",
    "print(sum, multi,division)\n"
   ]
  },
  {
   "cell_type": "markdown",
   "id": "26c84aa4-eb03-46c0-864c-95a621751850",
   "metadata": {},
   "source": [
    "  ## 2.3 Встроенные типы последовательностей: str, list, tuple"
   ]
  },
  {
   "cell_type": "code",
   "execution_count": 3,
   "id": "5fd06979-aa32-45f0-8b53-5095dc824d3a",
   "metadata": {},
   "outputs": [
    {
     "name": "stdout",
     "output_type": "stream",
     "text": [
      "spam\n",
      "slam\n"
     ]
    }
   ],
   "source": [
    "S = 'spam'\n",
    "print(S)\n",
    "S = S[:1] + 'l' + S[2:]\n",
    "print(S)  \n"
   ]
  },
  {
   "cell_type": "markdown",
   "id": "d1d4315d-c144-4b0b-81fc-a619d80b456a",
   "metadata": {},
   "source": [
    "S[:1]: Нарезка строки, которая выбирает все символы строки S от начала до индекса 1 (не включая символ на индексе 1). В нашем случае, если S = 'spam', то S[:1] вернет 's'.\n",
    "\n",
    "'l': Конкатенация строки. Мы добавляем новый символ 'l' в строку.\n",
    "\n",
    "S[2:]: Нарезка строки, которая выбирает все символы строки S, начиная с индекса 2 до конца строки. В нашем случае, если S = 'spam', то S[2:] вернет 'am'."
   ]
  },
  {
   "cell_type": "markdown",
   "id": "f2f55ec0-7450-4923-a72b-aa3901daf34a",
   "metadata": {},
   "source": [
    "`Можно ли выполнить эту операцию с применением только индексации и конкатенации?:` \n",
    "Нет, нельзя. Строки в Python являются неизменяемыми (immutable), поэтому присваивание по индексу невозможно. Нельзя напрямую изменить отдельный символ строки.\n",
    "`Присваивание по индексу для строк` также **невозможно**, потому что строки неизменяемы."
   ]
  },
  {
   "cell_type": "markdown",
   "id": "b589e405-cc81-4901-8d06-5b7c5b383987",
   "metadata": {},
   "source": [
    "Для списка(`list`):"
   ]
  },
  {
   "cell_type": "code",
   "execution_count": 4,
   "id": "16126ba2-da82-4bf2-8203-e54edbcc5fad",
   "metadata": {},
   "outputs": [
    {
     "name": "stdout",
     "output_type": "stream",
     "text": [
      "['s', 'l', 'a', 'm']\n"
     ]
    }
   ],
   "source": [
    "L = ['s', 'p', 'a', 'm']\n",
    "L[1] = 'l'\n",
    "print(L)  \n"
   ]
  },
  {
   "cell_type": "markdown",
   "id": "a760cd5a-5020-4ac0-a92d-0755a422d53e",
   "metadata": {},
   "source": [
    "Для кортежа(`tuple`):"
   ]
  },
  {
   "cell_type": "code",
   "execution_count": 5,
   "id": "143d401d-652e-41b5-8c19-1d4ceb811e50",
   "metadata": {},
   "outputs": [
    {
     "name": "stdout",
     "output_type": "stream",
     "text": [
      "('s', 'l', 'a', 'm')\n"
     ]
    }
   ],
   "source": [
    "T = ('s', 'p', 'a', 'm')\n",
    "T = T[:1] + ('l',) + T[2:]\n",
    "print(T)  \n"
   ]
  },
  {
   "cell_type": "markdown",
   "id": "117026f1-8e83-46e9-84cd-05750348cbc8",
   "metadata": {},
   "source": [
    "## 2.4 Встроенный тип отображения: dict"
   ]
  },
  {
   "cell_type": "code",
   "execution_count": 6,
   "id": "43042436-eb94-4fe2-b069-d48031ca714b",
   "metadata": {},
   "outputs": [
    {
     "name": "stdout",
     "output_type": "stream",
     "text": [
      "Иван 18 ivan.domash@inbox.ru\n"
     ]
    }
   ],
   "source": [
    "\n",
    "privathayainformaziya = {\n",
    "    \"имя\": \"Иван\",\n",
    "    \"отчество\": \"Дмитриевич\",\n",
    "    \"фамилия\": \"Домаш\",\n",
    "    \"возраст\": 18,\n",
    "    \"место работы\": \" BSU\",\n",
    "    \"адрес\": \"Минск, Беларусь\",\n",
    "    \"email\": \"ivan.domash@inbox.ru\",\n",
    "    \"телефон\": \"+375297752329\"\n",
    "}\n",
    "\n",
    "name = privathayainformaziya[\"имя\"]\n",
    "age = privathayainformaziya[\"возраст\"]\n",
    "email = privathayainformaziya[\"email\"]\n",
    "print(name, age, email)\n",
    "\n",
    "\n",
    "\n"
   ]
  },
  {
   "cell_type": "markdown",
   "id": "c35a08f9-d472-4ff6-9b1b-59d12e2d972b",
   "metadata": {},
   "source": [
    "тот же словарь будет более удобен, так как:\n",
    "\n",
    " - Легко получать доступ к значениям по ключам.\n",
    "\n",
    " - Удобно добавлять и изменять данные.\n",
    "\n",
    " - Понятная структура данных.\n",
    "\n",
    "a tuple менее приятен, т.к. к примеру требуют больше усилий для доступа к значениям по индексу."
   ]
  },
  {
   "cell_type": "markdown",
   "id": "55c81ed1-2f2c-4997-a34c-25b15b9c9544",
   "metadata": {},
   "source": [
    "## 2.5 Встроенный тип множества: set"
   ]
  },
  {
   "cell_type": "code",
   "execution_count": 7,
   "id": "26fd069b-b410-4fd9-9d9e-526074080290",
   "metadata": {},
   "outputs": [
    {
     "name": "stdout",
     "output_type": "stream",
     "text": [
      "sssuunnset\n",
      "enust\n"
     ]
    }
   ],
   "source": [
    "\n",
    "sunsset = \"sssuunnset\"\n",
    "\n",
    "\n",
    "sunset = set(sunsset)\n",
    "\n",
    "\n",
    "riseagain = ''.join(sunset)\n",
    "\n",
    "print(sunsset)\n",
    "print(riseagain)"
   ]
  },
  {
   "cell_type": "markdown",
   "id": "b40da517-5aa2-428c-a77f-9d69343f42ac",
   "metadata": {},
   "source": [
    "получилось `stenu`, хотя должно было быть `sunet`, видимо, порядок теряетсЯ"
   ]
  },
  {
   "cell_type": "markdown",
   "id": "57d39fcf-fcbb-43f3-be90-10e095ba94ce",
   "metadata": {},
   "source": [
    "## 2.8 Интерфейс объекта: операции и методы\n",
    "## 2.8.1"
   ]
  },
  {
   "cell_type": "code",
   "execution_count": 8,
   "id": "efa0a0fb-3252-4588-9c73-f43ecb16afae",
   "metadata": {},
   "outputs": [
    {
     "name": "stdout",
     "output_type": "stream",
     "text": [
      "2 4\n"
     ]
    }
   ],
   "source": [
    "s = \"hello world\"\n",
    "scount = s.count('o')\n",
    "sindex = s.index('o')\n",
    "print(scount, sindex)\n"
   ]
  },
  {
   "cell_type": "code",
   "execution_count": 9,
   "id": "78298384-026c-490c-bfb4-f372c4559338",
   "metadata": {},
   "outputs": [
    {
     "name": "stdout",
     "output_type": "stream",
     "text": [
      "2 1\n"
     ]
    }
   ],
   "source": [
    "lst = [1, 2, 3, 2, 1]\n",
    "lcount = lst.count(2)\n",
    "lindex = lst.index(2)\n",
    "print(lcount, lindex)\n"
   ]
  },
  {
   "cell_type": "code",
   "execution_count": 10,
   "id": "8157b585-e7e5-45ec-836e-27776181133d",
   "metadata": {},
   "outputs": [
    {
     "name": "stdout",
     "output_type": "stream",
     "text": [
      "2 1\n"
     ]
    }
   ],
   "source": [
    "tpl = (1, 2, 3, 2, 1)\n",
    "tcount = tpl.count(2)\n",
    "tindex = tpl.index(2)\n",
    "print(tcount, tindex)"
   ]
  },
  {
   "cell_type": "markdown",
   "id": "550b381d-e98d-4ff3-b93e-bf6993d09240",
   "metadata": {},
   "source": [
    "## 2.8.2"
   ]
  },
  {
   "cell_type": "markdown",
   "id": "3f90daa2-e7f3-445e-b285-ac84a26da850",
   "metadata": {},
   "source": [
    "## Пример выражения с тремя строковыми методами.\n"
   ]
  },
  {
   "cell_type": "code",
   "execution_count": 11,
   "id": "7b43d9fa-e84d-46d2-b2ab-6b88639233cf",
   "metadata": {},
   "outputs": [
    {
     "name": "stdout",
     "output_type": "stream",
     "text": [
      "['SOUNDS', 'AWFUL']\n"
     ]
    }
   ],
   "source": [
    "s = \"sounds great\"\n",
    "result = s.upper().replace(\"GREAT\", \"AWFUL\").split()\n",
    "print(result)\n",
    "\n"
   ]
  },
  {
   "cell_type": "markdown",
   "id": "2e9f5c2f-4a26-47ac-8250-2c83bde9fab5",
   "metadata": {},
   "source": [
    "**Спецификации:**\n",
    " - `upper`: Преобразует все буквы строки в верхний регистр.\n",
    "\n",
    " - `replace`: Заменяет все вхождения подстроки на  новые.\n",
    "\n",
    " - `split`: Разбивает строку на список подстрок по заданному разделителю."
   ]
  },
  {
   "cell_type": "markdown",
   "id": "ad5eb3e2-ef1f-4be5-862f-3332b5b54178",
   "metadata": {},
   "source": [
    "## 2.8.3"
   ]
  },
  {
   "cell_type": "code",
   "execution_count": 12,
   "id": "abbe7598-7085-4e96-aab7-8a807c2b4b48",
   "metadata": {},
   "outputs": [
    {
     "name": "stdout",
     "output_type": "stream",
     "text": [
      "[1, 3, 3, 4]\n"
     ]
    }
   ],
   "source": [
    "lst = [1, 3, 3]\n",
    "lst.append(4)\n",
    "print(lst)\n",
    "\n"
   ]
  },
  {
   "cell_type": "code",
   "execution_count": 13,
   "id": "b3ad4088-d064-40ad-b5db-49b0d60c74a4",
   "metadata": {},
   "outputs": [
    {
     "name": "stdout",
     "output_type": "stream",
     "text": [
      "[1, 2, 3, 4, 5, 'g']\n"
     ]
    }
   ],
   "source": [
    "lst = [1, 2, 3]\n",
    "lst.extend([4, 5, 'g'])\n",
    "print(lst)"
   ]
  },
  {
   "cell_type": "code",
   "execution_count": 14,
   "id": "4b1dc3ac-f232-4a77-a384-d78a0947bcff",
   "metadata": {},
   "outputs": [
    {
     "name": "stdout",
     "output_type": "stream",
     "text": [
      "[1, 5000, 2, 3]\n"
     ]
    }
   ],
   "source": [
    "lst = [1, 2, 3]\n",
    "lst.insert(1, 5000)\n",
    "print(lst)\n",
    "\n"
   ]
  },
  {
   "cell_type": "markdown",
   "id": "2bb841bd-adcb-4749-a9ab-1720327f3abc",
   "metadata": {},
   "source": [
    "## 2.8.4"
   ]
  },
  {
   "cell_type": "code",
   "execution_count": 15,
   "id": "c5f26a9a-d224-4450-8e1d-9e8b049b72e7",
   "metadata": {},
   "outputs": [
    {
     "name": "stdout",
     "output_type": "stream",
     "text": [
      "['dlin', 'dlina', 'dlinana']\n"
     ]
    }
   ],
   "source": [
    "lst = [\"dlin\", \"dlinana\", \"dlina\"]\n",
    "lst.sort(key=len) # по длине\n",
    "print(lst)\n"
   ]
  },
  {
   "cell_type": "markdown",
   "id": "57d21213-487b-4f00-9add-73adbbfe3ce9",
   "metadata": {},
   "source": [
    "## 2.8.5"
   ]
  },
  {
   "cell_type": "code",
   "execution_count": 16,
   "id": "1a906a14-6154-4584-9fc9-0182dd54cd44",
   "metadata": {},
   "outputs": [
    {
     "name": "stdout",
     "output_type": "stream",
     "text": [
      "{0: '-7', 1: '-7', 2: '-7', 3: '-7', 4: '-7', 5: '-7', 6: '-7', 7: '-7', 8: '-7', 9: '-7', 10: '-7', 11: '-7', 12: '-7', 13: '-7', 14: '-7', 15: '-7', 16: '-7', 17: '-7', 18: '-7', 19: '-7', 20: '-7', 21: '-7', 22: '-7', 23: '-7', 24: '-7', 25: '-7', 26: '-7', 27: '-7', 28: '-7', 29: '-7', 30: '-7', 31: '-7', 32: '-7', 33: '-7', 34: '-7', 35: '-7', 36: '-7', 37: '-7', 38: '-7', 39: '-7', 40: '-7', 41: '-7', 42: '-7', 43: '-7', 44: '-7', 45: '-7', 46: '-7', 47: '-7', 48: '-7', 49: '-7', 50: '-7', 51: '-7', 52: '-7', 53: '-7', 54: '-7', 55: '-7', 56: '-7', 57: '-7', 58: '-7', 59: '-7', 60: '-7', 61: '-7', 62: '-7', 63: '-7', 64: '-7', 65: '-7', 66: '-7', 67: '-7', 68: '-7', 69: '-7', 70: '-7', 71: '-7', 72: '-7', 73: '-7', 74: '-7', 75: '-7', 76: '-7', 77: '-7', 78: '-7', 79: '-7', 80: '-7', 81: '-7', 82: '-7', 83: '-7', 84: '-7', 85: '-7', 86: '-7', 87: '-7', 88: '-7', 89: '-7', 90: '-7', 91: '-7', 92: '-7', 93: '-7', 94: '-7', 95: '-7', 96: '-7', 97: '-7', 98: '-7', 99: '-7'}\n"
     ]
    }
   ],
   "source": [
    "d = {i: \"-7\" for i in range(100)}\n",
    "print(d)\n"
   ]
  },
  {
   "cell_type": "markdown",
   "id": "36ebebe3-9498-4193-a49c-51a0b40a3748",
   "metadata": {},
   "source": [
    "## 2.9 Переменная "
   ]
  },
  {
   "cell_type": "code",
   "execution_count": 17,
   "id": "f2689dd4-0cd1-4345-95f4-9f2f80d5d5fc",
   "metadata": {},
   "outputs": [
    {
     "name": "stdout",
     "output_type": "stream",
     "text": [
      "[1, 2, 3, [...]]\n"
     ]
    }
   ],
   "source": [
    "a = [1, 2, 3]\n",
    "a.append(a)\n",
    "print(a)  "
   ]
  },
  {
   "cell_type": "code",
   "execution_count": 18,
   "id": "f99c9ab7-1708-4201-9697-1084a0b9fc53",
   "metadata": {},
   "outputs": [
    {
     "name": "stdout",
     "output_type": "stream",
     "text": [
      "{'od': 'tr', 'uf': {...}}\n"
     ]
    }
   ],
   "source": [
    "slovar = {'od': 'tr'}\n",
    "slovar['uf'] = slovar\n",
    "print(slovar)  # Output: {'key': 'value', 'self': {...}}\n"
   ]
  },
  {
   "cell_type": "code",
   "execution_count": 19,
   "id": "a11218f0-d223-4165-aed1-a46022ee30bd",
   "metadata": {},
   "outputs": [
    {
     "name": "stdout",
     "output_type": "stream",
     "text": [
      "[13] [13] [13] [13]\n"
     ]
    }
   ],
   "source": [
    "obj = [13]\n",
    "a = b = c = d = obj\n",
    "print(a, b, c, d)  \n"
   ]
  },
  {
   "cell_type": "markdown",
   "id": "01335e7e-c4c1-4755-8377-a2048d3a9f5f",
   "metadata": {},
   "source": [
    "**Приведите три различных способа копирования списка.**"
   ]
  },
  {
   "cell_type": "code",
   "execution_count": 20,
   "id": "820e5953-3cba-4675-aa03-cfe0930ee688",
   "metadata": {},
   "outputs": [
    {
     "name": "stdout",
     "output_type": "stream",
     "text": [
      "[1, 2, 3]\n"
     ]
    }
   ],
   "source": [
    "origin = [1, 2, 3]\n",
    "copy = list(origin)\n",
    "print(copy)  \n"
   ]
  },
  {
   "cell_type": "code",
   "execution_count": 21,
   "id": "1bcb6847-2930-4e82-bc6f-ca5708555725",
   "metadata": {},
   "outputs": [
    {
     "name": "stdout",
     "output_type": "stream",
     "text": [
      "[1, 2, 3]\n"
     ]
    }
   ],
   "source": [
    "origin = [1, 2, 3]\n",
    "copy = origin.copy()\n",
    "print(copy) "
   ]
  },
  {
   "cell_type": "code",
   "execution_count": 22,
   "id": "6c265775-c0d3-43df-a490-df8141f8e7e3",
   "metadata": {},
   "outputs": [
    {
     "name": "stdout",
     "output_type": "stream",
     "text": [
      "[1, 2, 3]\n"
     ]
    }
   ],
   "source": [
    "origin = [1, 2, 3]\n",
    "copy = origin\n",
    "print(copy) "
   ]
  },
  {
   "cell_type": "markdown",
   "id": "bc5a37e7-a055-49ff-89a7-114c8e60057a",
   "metadata": {},
   "source": [
    "## 2.10 Выражение спискового включения"
   ]
  },
  {
   "cell_type": "code",
   "execution_count": 23,
   "id": "e65f519a-d9da-41cd-80a9-14ce24ed1f19",
   "metadata": {},
   "outputs": [
    {
     "name": "stdout",
     "output_type": "stream",
     "text": [
      "{1, 3, 5, 7, 9}\n"
     ]
    }
   ],
   "source": [
    "nechet = {x for x in range(10) if x % 2 == 1}\n",
    "print(nechet)"
   ]
  },
  {
   "cell_type": "code",
   "execution_count": 24,
   "id": "31c538d2-eb18-44bb-946c-6c151625a724",
   "metadata": {},
   "outputs": [
    {
     "name": "stdout",
     "output_type": "stream",
     "text": [
      "[0, 1, 2, 3, 4, 5, 6, 7]\n",
      "[1, 2, 3, 4, 5, 6, 7, 8]\n",
      "[2, 3, 4, 5, 6, 7, 8, 9]\n",
      "[3, 4, 5, 6, 7, 8, 9, 10]\n",
      "[4, 5, 6, 7, 8, 9, 10, 11]\n",
      "[5, 6, 7, 8, 9, 10, 11, 12]\n",
      "[6, 7, 8, 9, 10, 11, 12, 13]\n"
     ]
    }
   ],
   "source": [
    "matrix = [[ i + j for j in range(8)] for i in range(7)]\n",
    "for row in matrix:\n",
    "    print(row)"
   ]
  },
  {
   "cell_type": "code",
   "execution_count": 25,
   "id": "45035c8f-bcc5-423c-ab42-81583c3b3317",
   "metadata": {},
   "outputs": [
    {
     "name": "stdout",
     "output_type": "stream",
     "text": [
      "[[ 0  1  2  3  4  5  6  7]\n",
      " [ 8  9 10 11 12 13 14 15]\n",
      " [16 17 18 19 20 21 22 23]\n",
      " [24 25 26 27 28 29 30 31]\n",
      " [32 33 34 35 36 37 38 39]\n",
      " [40 41 42 43 44 45 46 47]\n",
      " [48 49 50 51 52 53 54 55]]\n"
     ]
    }
   ],
   "source": [
    "import numpy as np\n",
    "matrix = np.arange(56).reshape(7, 8)\n",
    "print(matrix)"
   ]
  },
  {
   "cell_type": "code",
   "execution_count": 26,
   "id": "0cd3ce82-34ff-49ad-adbb-a8fdc559c9f1",
   "metadata": {},
   "outputs": [
    {
     "name": "stdout",
     "output_type": "stream",
     "text": [
      "{0: {'a': 0}, 1: {'a': 1}, 2: {'a': 4}, 3: {'a': 9}}\n"
     ]
    }
   ],
   "source": [
    "slojnidict = {i: {'a': i ** 2 } for i in range(4)}\n",
    "print(slojnidict)"
   ]
  },
  {
   "cell_type": "markdown",
   "id": "6cd12280-c5a2-46ce-953a-4259fd127d1b",
   "metadata": {},
   "source": [
    "## 2.11 Форматированный вывод строк\n",
    "\n",
    "-"
   ]
  },
  {
   "cell_type": "code",
   "execution_count": 27,
   "id": "63e45ef5-bba5-4405-ae46-ffdbadcb4df0",
   "metadata": {},
   "outputs": [
    {
     "name": "stdout",
     "output_type": "stream",
     "text": [
      "variable = 52\n"
     ]
    }
   ],
   "source": [
    "variable = 52\n",
    "fstring = f'{variable =:3}'\n",
    "print(fstring)"
   ]
  },
  {
   "cell_type": "code",
   "execution_count": 28,
   "id": "17ca0fcd-37a5-42a3-ab79-afb047c023d8",
   "metadata": {},
   "outputs": [
    {
     "name": "stdout",
     "output_type": "stream",
     "text": [
      "variable = 52\n"
     ]
    }
   ],
   "source": [
    "variable = 52\n",
    "f1string = 'variable =%3d' % variable\n",
    "print(f1string)\n",
    "\n"
   ]
  },
  {
   "cell_type": "code",
   "execution_count": 29,
   "id": "5fc00dc1-8f35-4d49-9ae1-5f0dc1a99c6d",
   "metadata": {},
   "outputs": [
    {
     "name": "stdout",
     "output_type": "stream",
     "text": [
      "variable = 52\n"
     ]
    }
   ],
   "source": [
    "variable = 52\n",
    "f2string = 'variable ={:3}'.format(variable)\n",
    "print(f2string)\n",
    "\n",
    "\n"
   ]
  },
  {
   "cell_type": "code",
   "execution_count": 30,
   "id": "aaf6d803-78f7-469f-ac80-ce68710f09e8",
   "metadata": {},
   "outputs": [
    {
     "name": "stdout",
     "output_type": "stream",
     "text": [
      "expression=104\n"
     ]
    }
   ],
   "source": [
    "expression = 52 * 2\n",
    "estring = f'{expression=:.0f}'\n",
    "print(estring)\n",
    "\n",
    "\n"
   ]
  },
  {
   "cell_type": "code",
   "execution_count": 31,
   "id": "7ab328b6-1aa6-460e-b4c0-4702dbdb1c81",
   "metadata": {},
   "outputs": [
    {
     "name": "stdout",
     "output_type": "stream",
     "text": [
      "expression=104.0\n"
     ]
    }
   ],
   "source": [
    "\n",
    "expression = 52 * 2\n",
    "e1string = 'expression=%.1f' % expression\n",
    "print(e1string)"
   ]
  },
  {
   "cell_type": "code",
   "execution_count": 32,
   "id": "41462857-b6a3-49a6-a496-f35398795cef",
   "metadata": {},
   "outputs": [
    {
     "name": "stdout",
     "output_type": "stream",
     "text": [
      "expression=104.00\n"
     ]
    }
   ],
   "source": [
    "\n",
    "expression = 52 * 2\n",
    "e2string = 'expression={:.2f}'.format(expression)\n",
    "print(e2string)"
   ]
  },
  {
   "cell_type": "markdown",
   "id": "f74cc12f-20db-4127-afe9-193ce6d47e9a",
   "metadata": {},
   "source": [
    "## 2.12 Файловый объект"
   ]
  },
  {
   "cell_type": "code",
   "execution_count": 33,
   "id": "73ea8afc-73a5-44dd-aebf-0a3a652a2449",
   "metadata": {},
   "outputs": [
    {
     "name": "stdout",
     "output_type": "stream",
     "text": [
      "Содержимое файла:\n",
      "привет\n",
      "как\n",
      "дела\n",
      "\n",
      "Это новая строка\n",
      "еще\n",
      "и еще\n",
      "\n",
      "['привет\\n', 'как\\n', 'дела\\n', '\\n', 'Это новая строка\\n', 'еще\\n', 'и еще\\n']\n",
      "привет\n",
      "\n",
      "привет\n",
      "как\n",
      "дела\n",
      "\n",
      "Это новая строка\n",
      "еще\n",
      "и еще\n",
      "Это новая строка\n",
      "еще\n",
      "и еще\n",
      "\n"
     ]
    }
   ],
   "source": [
    "file_path = r\"C:\\Users\\user\\Desktop\\Привет как дела.txt\"\n",
    "\n",
    "\n",
    "file = open(file_path,  encoding='utf-8')\n",
    "content = file.read()\n",
    "print(\"Содержимое файла:\")\n",
    "print(content)\n",
    "file = open(file_path, 'r', encoding='utf-8')\n",
    "lines = file.readlines()\n",
    "print(lines)\n",
    "file = open(file_path, 'r', encoding='utf-8')\n",
    "line = file.readline()\n",
    "print(line)\n",
    "file = open(file_path, 'a', encoding='utf-8')\n",
    "\n",
    "\n",
    "file.write(\"Это новая строка\\n\")\n",
    "file.writelines([\"еще\\n\", \"и еще\\n\"])\n",
    "file.close()\n",
    "file = open(file_path, 'r', encoding='utf-8')\n",
    "content = file.read()\n",
    "print(content)\n",
    "file.close()\n",
    "\n",
    "\n",
    "\n",
    "\n"
   ]
  },
  {
   "cell_type": "markdown",
   "id": "2f29a2c8-2d37-48cc-a69d-a184f9d233f1",
   "metadata": {},
   "source": [
    "## Задание 2.3\n"
   ]
  },
  {
   "cell_type": "markdown",
   "id": "94dba60d-f452-4332-ace2-9d9aa4d12671",
   "metadata": {},
   "source": [
    "## 1.\n"
   ]
  },
  {
   "attachments": {},
   "cell_type": "markdown",
   "id": "e43d8dc2-c0d7-43d6-a381-fbc0d96c8a26",
   "metadata": {},
   "source": [
    "Ошибка возникает так как мы выходим за пределы нашей строки `str1` пытаясь вызвать `[10]` элемент строки\n",
    "`str1 = 'String'` в ней всего 5 элементов начиная с нулевого."
   ]
  },
  {
   "cell_type": "markdown",
   "id": "2e54ed45-df89-48a3-893e-ff998e0b5cbe",
   "metadata": {},
   "source": [
    "# 2.\n"
   ]
  },
  {
   "cell_type": "code",
   "execution_count": 4,
   "id": "76b39fa0-e9f0-48c0-8b93-e4be6cdca80e",
   "metadata": {},
   "outputs": [
    {
     "ename": "TypeError",
     "evalue": "can only concatenate list (not \"str\") to list",
     "output_type": "error",
     "traceback": [
      "\u001b[1;31m---------------------------------------------------------------------------\u001b[0m",
      "\u001b[1;31mTypeError\u001b[0m                                 Traceback (most recent call last)",
      "Cell \u001b[1;32mIn[4], line 1\u001b[0m\n\u001b[1;32m----> 1\u001b[0m [\u001b[38;5;241m1\u001b[39m] \u001b[38;5;241m+\u001b[39m \u001b[38;5;124m'\u001b[39m\u001b[38;5;124m1\u001b[39m\u001b[38;5;124m'\u001b[39m\n",
      "\u001b[1;31mTypeError\u001b[0m: can only concatenate list (not \"str\") to list"
     ]
    }
   ],
   "source": [
    "[1] + '1'\n"
   ]
  },
  {
   "cell_type": "markdown",
   "id": "27e1c04f-1ee7-4a77-945c-ac3cbccd8af1",
   "metadata": {},
   "source": [
    "Ошибка возникает так как мы не можем \n",
    "использовать последовательности различных типов в операции сложения + из-за\n",
    "строгой типизации объектов в Python. Автоматическое преобразование типов не\n",
    "производится в Python.\n"
   ]
  },
  {
   "cell_type": "markdown",
   "id": "6f9f12dc-3de8-4ed5-bde1-4cbe247b0a1d",
   "metadata": {},
   "source": [
    "# 3."
   ]
  },
  {
   "cell_type": "code",
   "execution_count": 8,
   "id": "fe4f3fad-5a92-4fa4-8ad1-59da596af737",
   "metadata": {},
   "outputs": [
    {
     "data": {
      "text/plain": [
       "{'one': 11, 'new': 2, (1, 2): 12}"
      ]
     },
     "execution_count": 8,
     "metadata": {},
     "output_type": "execute_result"
    }
   ],
   "source": [
    "dict1 = {'one': 1}\n",
    "dict1['one'] = 11 # изменение значения с использованием индексации\n",
    "dict1['one'] # извлечение значения с использованием индексации\n",
    "dict1['new'] = 2\n",
    "dict1\n",
    "dict1[1,2] = 12\n",
    "dict1"
   ]
  },
  {
   "cell_type": "code",
   "execution_count": 10,
   "id": "7bcc9be1-5e4f-46db-8c72-5fb0a87ef32a",
   "metadata": {},
   "outputs": [
    {
     "ename": "KeyError",
     "evalue": "'two'",
     "output_type": "error",
     "traceback": [
      "\u001b[1;31m---------------------------------------------------------------------------\u001b[0m",
      "\u001b[1;31mKeyError\u001b[0m                                  Traceback (most recent call last)",
      "Cell \u001b[1;32mIn[10], line 1\u001b[0m\n\u001b[1;32m----> 1\u001b[0m dict1[\u001b[38;5;124m'\u001b[39m\u001b[38;5;124mtwo\u001b[39m\u001b[38;5;124m'\u001b[39m]\n",
      "\u001b[1;31mKeyError\u001b[0m: 'two'"
     ]
    }
   ],
   "source": [
    "dict1['two']"
   ]
  },
  {
   "cell_type": "markdown",
   "id": "9e470b07-af1c-4025-abfc-4dee2c9ab609",
   "metadata": {},
   "source": [
    "Тут ошибка возникает из за того что индексация по несуществующему ключу словаря приводит к ошибке."
   ]
  },
  {
   "cell_type": "markdown",
   "id": "a832372c-3ef9-4006-ac42-0c56dc445f7f",
   "metadata": {},
   "source": [
    "# 4."
   ]
  },
  {
   "cell_type": "code",
   "execution_count": 14,
   "id": "535780bf-8e61-4b2f-b3c6-0cafeb791144",
   "metadata": {},
   "outputs": [
    {
     "ename": "TypeError",
     "evalue": "'tuple' object does not support item assignment",
     "output_type": "error",
     "traceback": [
      "\u001b[1;31m---------------------------------------------------------------------------\u001b[0m",
      "\u001b[1;31mTypeError\u001b[0m                                 Traceback (most recent call last)",
      "Cell \u001b[1;32mIn[14], line 1\u001b[0m\n\u001b[1;32m----> 1\u001b[0m t \u001b[38;5;241m=\u001b[39m [\u001b[38;5;241m1\u001b[39m,\u001b[38;5;241m2\u001b[39m], {\u001b[38;5;241m1\u001b[39m:\u001b[38;5;241m2\u001b[39m}, {\u001b[38;5;241m1\u001b[39m,\u001b[38;5;241m2\u001b[39m}; t[\u001b[38;5;241m0\u001b[39m] \u001b[38;5;241m=\u001b[39m \u001b[38;5;241m0\u001b[39m\n",
      "\u001b[1;31mTypeError\u001b[0m: 'tuple' object does not support item assignment"
     ]
    }
   ],
   "source": [
    "t = [1,2], {1:2}, {1,2}; t[0] = 0"
   ]
  },
  {
   "cell_type": "markdown",
   "id": "aaa90fc8-2ec3-4e1e-8c08-a73f521082a4",
   "metadata": {},
   "source": [
    "Ошибка возникает потому, что мы пытаемся изменить значение элемента кортежа. В Python, кортежи являются неизменяемыми (immutable) структурами данных, что означает, что их элементы нельзя изменять после создания."
   ]
  },
  {
   "cell_type": "markdown",
   "id": "0a0446e9-694e-40f2-bcfe-5967a2825ad4",
   "metadata": {},
   "source": [
    "# 5."
   ]
  },
  {
   "cell_type": "code",
   "execution_count": 18,
   "id": "2f61a014-c106-4647-a182-bdebfb4602e4",
   "metadata": {},
   "outputs": [
    {
     "ename": "TypeError",
     "evalue": "unhashable type: 'list'",
     "output_type": "error",
     "traceback": [
      "\u001b[1;31m---------------------------------------------------------------------------\u001b[0m",
      "\u001b[1;31mTypeError\u001b[0m                                 Traceback (most recent call last)",
      "Cell \u001b[1;32mIn[18], line 1\u001b[0m\n\u001b[1;32m----> 1\u001b[0m {\u001b[38;5;241m1\u001b[39m, \u001b[38;5;124m'\u001b[39m\u001b[38;5;124mstr\u001b[39m\u001b[38;5;124m'\u001b[39m, (\u001b[38;5;241m1\u001b[39m,)}\u001b[38;5;241m.\u001b[39madd([\u001b[38;5;241m1\u001b[39m])\n",
      "\u001b[1;31mTypeError\u001b[0m: unhashable type: 'list'"
     ]
    }
   ],
   "source": [
    "{1, 'str', (1,)}.add([1])\n"
   ]
  },
  {
   "cell_type": "markdown",
   "id": "79796389-5bc1-4d00-a89f-39d12d4fb4ba",
   "metadata": {},
   "source": [
    "ошибка возникает так как элементами множества могут являться только объекты неизменяемых типов: число,\n",
    "строка, кортеж. а мы пытаемся добавить список , который является изменяемым типом.\n"
   ]
  },
  {
   "cell_type": "markdown",
   "id": "42dacaf3-fabc-4c0f-b986-e19130e32824",
   "metadata": {},
   "source": [
    "# 6."
   ]
  },
  {
   "cell_type": "code",
   "execution_count": 24,
   "id": "2c9f7a86-b52a-4350-a294-8684ae4f4d43",
   "metadata": {},
   "outputs": [
    {
     "data": {
      "text/plain": [
       "(dict_keys(['one', 'two']),\n",
       " dict_values([1, 2]),\n",
       " dict_items([('one', 1), ('two', 2)]))"
      ]
     },
     "execution_count": 24,
     "metadata": {},
     "output_type": "execute_result"
    }
   ],
   "source": [
    "dict1 = dict(one=1, two=2)\n",
    "dict1.keys(), dict1.values(), dict1.items()\n",
    "\n"
   ]
  },
  {
   "cell_type": "code",
   "execution_count": 26,
   "id": "40c67982-e35c-4199-adac-ae5aa82082f5",
   "metadata": {},
   "outputs": [
    {
     "name": "stdout",
     "output_type": "stream",
     "text": [
      "1 None\n"
     ]
    },
    {
     "ename": "KeyError",
     "evalue": "'three'",
     "output_type": "error",
     "traceback": [
      "\u001b[1;31m---------------------------------------------------------------------------\u001b[0m",
      "\u001b[1;31mKeyError\u001b[0m                                  Traceback (most recent call last)",
      "Cell \u001b[1;32mIn[26], line 2\u001b[0m\n\u001b[0;32m      1\u001b[0m \u001b[38;5;28mprint\u001b[39m(dict1\u001b[38;5;241m.\u001b[39mget(\u001b[38;5;124m'\u001b[39m\u001b[38;5;124mone\u001b[39m\u001b[38;5;124m'\u001b[39m), dict1\u001b[38;5;241m.\u001b[39mget(\u001b[38;5;124m'\u001b[39m\u001b[38;5;124mthree\u001b[39m\u001b[38;5;124m'\u001b[39m))\n\u001b[1;32m----> 2\u001b[0m dict1[\u001b[38;5;124m'\u001b[39m\u001b[38;5;124mthree\u001b[39m\u001b[38;5;124m'\u001b[39m]\n",
      "\u001b[1;31mKeyError\u001b[0m: 'three'"
     ]
    }
   ],
   "source": [
    "print(dict1.get('one'), dict1.get('three'))\n",
    "dict1['three']"
   ]
  },
  {
   "cell_type": "markdown",
   "id": "647a0abc-fd1a-44ad-af5b-0a74a1098532",
   "metadata": {},
   "source": [
    "Ошибка возникает так как ,мы пытаемся получить доступ к ключу `'three'`, которого нет в словаре dict1. Когда мы пишем `dict1['three']`, Python пытается найти значение для ключа `'three'`, но не может его найти, так как этого ключа не существует в словаре. "
   ]
  },
  {
   "cell_type": "markdown",
   "id": "d121df66-5186-455e-9468-a34a506b3180",
   "metadata": {},
   "source": [
    "# 7."
   ]
  },
  {
   "cell_type": "code",
   "execution_count": 32,
   "id": "bbf0925a-abb8-45a9-ab21-9a4afcc3eeb7",
   "metadata": {},
   "outputs": [
    {
     "name": "stdout",
     "output_type": "stream",
     "text": [
      "s+t+r+i+n+g -1\n"
     ]
    },
    {
     "ename": "ValueError",
     "evalue": "substring not found",
     "output_type": "error",
     "traceback": [
      "\u001b[1;31m---------------------------------------------------------------------------\u001b[0m",
      "\u001b[1;31mValueError\u001b[0m                                Traceback (most recent call last)",
      "Cell \u001b[1;32mIn[32], line 4\u001b[0m\n\u001b[0;32m      1\u001b[0m s \u001b[38;5;241m=\u001b[39m \u001b[38;5;124m'\u001b[39m\u001b[38;5;124m+\u001b[39m\u001b[38;5;124m'\u001b[39m\u001b[38;5;241m.\u001b[39mjoin(\u001b[38;5;124m'\u001b[39m\u001b[38;5;124mstring\u001b[39m\u001b[38;5;124m'\u001b[39m); s\n\u001b[0;32m      3\u001b[0m \u001b[38;5;28mprint\u001b[39m(s, s\u001b[38;5;241m.\u001b[39mfind(\u001b[38;5;124m'\u001b[39m\u001b[38;5;124m-\u001b[39m\u001b[38;5;124m'\u001b[39m))\n\u001b[1;32m----> 4\u001b[0m s\u001b[38;5;241m.\u001b[39mindex(\u001b[38;5;124m'\u001b[39m\u001b[38;5;124m-\u001b[39m\u001b[38;5;124m'\u001b[39m)\n",
      "\u001b[1;31mValueError\u001b[0m: substring not found"
     ]
    }
   ],
   "source": [
    "s = '+'.join('string'); s\n",
    "\n",
    "print(s, s.find('-'))\n",
    "s.index('-')\n"
   ]
  },
  {
   "cell_type": "markdown",
   "id": "2abc200c-8e1b-4faf-96de-408776870dbb",
   "metadata": {},
   "source": [
    "подстрока не содержится в строке поэтому `python` выдает ошибку"
   ]
  },
  {
   "cell_type": "markdown",
   "id": "4a2ce255-7a75-4591-b570-2c65250e1de8",
   "metadata": {},
   "source": [
    "# 8."
   ]
  },
  {
   "cell_type": "code",
   "execution_count": 36,
   "id": "81e0c79b-7de2-40bc-8b5b-a6a2f517e130",
   "metadata": {},
   "outputs": [
    {
     "ename": "NameError",
     "evalue": "name 'd' is not defined",
     "output_type": "error",
     "traceback": [
      "\u001b[1;31m---------------------------------------------------------------------------\u001b[0m",
      "\u001b[1;31mNameError\u001b[0m                                 Traceback (most recent call last)",
      "Cell \u001b[1;32mIn[36], line 2\u001b[0m\n\u001b[0;32m      1\u001b[0m a \u001b[38;5;241m=\u001b[39m \u001b[38;5;241m1\u001b[39m \u001b[38;5;66;03m# создание переменной\u001b[39;00m\n\u001b[1;32m----> 2\u001b[0m a, d\n",
      "\u001b[1;31mNameError\u001b[0m: name 'd' is not defined"
     ]
    }
   ],
   "source": [
    "a = 1 # создание переменной\n",
    "a, d\n"
   ]
  },
  {
   "cell_type": "markdown",
   "id": "9d4ffb47-4908-4e97-86a3-991d516ef186",
   "metadata": {},
   "source": [
    "Чтобы переменную можно было использовать, ей обязательно должно быть\n",
    "присвоено значение. Использование переменной до того, как ей было присвоено\n",
    "значение, всегда приведет к ошибке."
   ]
  },
  {
   "cell_type": "markdown",
   "id": "319c39e1-1015-4e78-ae14-843acb19879f",
   "metadata": {},
   "source": [
    "# 9."
   ]
  },
  {
   "cell_type": "code",
   "execution_count": 40,
   "id": "fef33349-c6bc-426f-9621-5cd11824755f",
   "metadata": {},
   "outputs": [
    {
     "name": "stdout",
     "output_type": "stream",
     "text": [
      "1\n"
     ]
    },
    {
     "ename": "TypeError",
     "evalue": "'int' object is not callable",
     "output_type": "error",
     "traceback": [
      "\u001b[1;31m---------------------------------------------------------------------------\u001b[0m",
      "\u001b[1;31mTypeError\u001b[0m                                 Traceback (most recent call last)",
      "Cell \u001b[1;32mIn[40], line 3\u001b[0m\n\u001b[0;32m      1\u001b[0m \u001b[38;5;28mprint\u001b[39m(\u001b[38;5;28mabs\u001b[39m(\u001b[38;5;241m-\u001b[39m\u001b[38;5;241m1\u001b[39m))\n\u001b[0;32m      2\u001b[0m \u001b[38;5;28mabs\u001b[39m \u001b[38;5;241m=\u001b[39m \u001b[38;5;241m5\u001b[39m\n\u001b[1;32m----> 3\u001b[0m \u001b[38;5;28mprint\u001b[39m(\u001b[38;5;28mabs\u001b[39m(\u001b[38;5;241m-\u001b[39m\u001b[38;5;241m1\u001b[39m))\n",
      "\u001b[1;31mTypeError\u001b[0m: 'int' object is not callable"
     ]
    }
   ],
   "source": [
    "print(abs(-1))\n",
    "abs = 5\n",
    "print(abs(-1))\n"
   ]
  },
  {
   "cell_type": "markdown",
   "id": "83febc20-6f23-4e63-b067-576b8970f74d",
   "metadata": {},
   "source": [
    "Ошибка возникает из-за того, что мы переопределяем встроенную функцию `abs` в `Python`, присваивая ей значение `5`. После этого `abs` больше не ссылается на встроенную функцию, которая вычисляет абсолютное значение числа. Вместо этого она становится обычной переменной с целочисленным значением `5`."
   ]
  },
  {
   "cell_type": "markdown",
   "id": "cf1ee456-69ac-4b40-bbc8-e0b15e1e8f44",
   "metadata": {},
   "source": [
    "# Задание 3."
   ]
  },
  {
   "cell_type": "markdown",
   "id": "40d0f7a1-1d76-411d-b038-566dee179e96",
   "metadata": {},
   "source": [
    "# Глава 4. Вопрос 6.\n",
    "# `Что такое “полиморфизм” и почему о нем нужно заботиться?`"
   ]
  },
  {
   "cell_type": "markdown",
   "id": "35cbb773-019c-43a9-bdea-f4b90fc2475d",
   "metadata": {},
   "source": [
    "“Полиморфизм” означает, что смысл операции (вроде +) зависит от объектов,\n",
    "на которых она выполняется. Выясняется, что это (вероятно) ключевая идея правильного использования Python — отказ от ограничения кода конкретными типами делает этот код применимым ко многим типам"
   ]
  },
  {
   "cell_type": "markdown",
   "id": "25d8036b-d12a-4204-82b8-14edc148188c",
   "metadata": {},
   "source": [
    "Примеры:   "
   ]
  },
  {
   "cell_type": "code",
   "execution_count": 47,
   "id": "bd404a9e-2018-44c6-8710-834f99c65063",
   "metadata": {},
   "outputs": [
    {
     "name": "stdout",
     "output_type": "stream",
     "text": [
      "5\n",
      "3\n",
      "3\n",
      "2\n"
     ]
    }
   ],
   "source": [
    "print(len(\"Hello\"))    \n",
    "print(len([1, 2, 3]))  \n",
    "print(len((4, 5, 6)))  \n",
    "print(len({\"a\": 1, \"b\": 2}))"
   ]
  },
  {
   "cell_type": "markdown",
   "id": "40994479-ad22-4d18-9f33-ceb920c95444",
   "metadata": {},
   "source": [
    "# Глава 5. Вопрос 1.\n",
    "# `Каким будет значение выражения 2 * (3 + 4) в Python?`"
   ]
  },
  {
   "cell_type": "markdown",
   "id": "c5ffcd21-7a9a-41dd-9b98-a6ad2cc55ca6",
   "metadata": {},
   "source": [
    "Значением выражения будет 14, результат 2*7, поскольку круглые скобки приводят к выполнению сложения раньше умножения."
   ]
  },
  {
   "cell_type": "markdown",
   "id": "136d9e70-4fc8-4348-a7d7-b37e53a259d8",
   "metadata": {},
   "source": [
    "Еще несколько примеров:"
   ]
  },
  {
   "cell_type": "code",
   "execution_count": 52,
   "id": "640d0e8e-3b94-49fc-9827-def23e1b1f77",
   "metadata": {},
   "outputs": [
    {
     "data": {
      "text/plain": [
       "10"
      ]
     },
     "execution_count": 52,
     "metadata": {},
     "output_type": "execute_result"
    }
   ],
   "source": [
    "2 * 3 + 4"
   ]
  },
  {
   "cell_type": "markdown",
   "id": "aa7e2189-8689-4c1b-b3f7-ca2a3f97a374",
   "metadata": {},
   "source": [
    "результат 10 так как скобок нет, поэтому сначала идет умножение `2 на 3 равно 6` и потом `6 + 4 = 10`"
   ]
  },
  {
   "cell_type": "markdown",
   "id": "049deb5f-c20b-447d-9066-a90b2061c861",
   "metadata": {},
   "source": [
    "# Глава 6. Вопрос 1.\n",
    "# `Взгляните на следующие три оператора. Изменяют ли они значение, выводимое для А?`\n",
    "`А = \"spam”\n",
    "В - А\n",
    "В = \"shrubbery\"`\n"
   ]
  },
  {
   "cell_type": "code",
   "execution_count": 56,
   "id": "b40c5437-fea8-4751-818f-de447a618b54",
   "metadata": {},
   "outputs": [],
   "source": [
    "A = \"spam\"\n",
    "B = A\n",
    "B = \"shrubbery\"\n"
   ]
  },
  {
   "cell_type": "code",
   "execution_count": 60,
   "id": "f0fa010e-c63c-4950-bd9b-e62b3e192c9f",
   "metadata": {},
   "outputs": [
    {
     "name": "stdout",
     "output_type": "stream",
     "text": [
      "spam\n"
     ]
    }
   ],
   "source": [
    "print(A)"
   ]
  },
  {
   "cell_type": "markdown",
   "id": "efe68b9b-73f4-4df8-ad8b-38efc05a78b6",
   "metadata": {},
   "source": [
    "как мы видим, для `A` по прежнему выводится `spam` так как: \n",
    "- В первой строке переменной `A` присваивается значение строки `\"spam\"`.\n",
    "\n",
    "- Во второй строке переменной `B` присваивается значение переменной A, то есть `\"spam\"`.\n",
    "\n",
    "- В третьей строке переменной `B` присваивается новое значение строки `\"shrubbery\"`, изменяя ее значение.\n",
    "\n",
    "Таким образом, значение переменной `A` остается неизменным и равно `\"spam\"`, так как присваивание переменной `B` нового значения не влияет на переменную `A`."
   ]
  },
  {
   "cell_type": "markdown",
   "id": "2a7f4cce-fe74-4568-a6c7-7d59075790ea",
   "metadata": {},
   "source": [
    "# Глава 7. Вопрос 4.\n",
    "# `Как бы вы могли изменить строку в Python?`"
   ]
  },
  {
   "cell_type": "markdown",
   "id": "5f0b9bc9-3d90-4e91-8a71-849b1477b83f",
   "metadata": {},
   "source": [
    "Строки не могут быть модифицированы; они неизменяемы. Однако похожего\n",
    "результата можно добиться путем создания новой строки — за счет конкатенации, нарезания, выполнения выражений форматирования либо использования\n",
    "вызова метода, подобного replace, — и затем присваивания результата исходной переменной."
   ]
  },
  {
   "cell_type": "markdown",
   "id": "2f53170e-52de-4755-b4a5-821ec4e571fe",
   "metadata": {},
   "source": [
    "`ПРИМЕРЫ:`"
   ]
  },
  {
   "cell_type": "code",
   "execution_count": 72,
   "id": "6e04b12c-bafa-4301-9e49-6cb7eab33e3b",
   "metadata": {},
   "outputs": [
    {
     "name": "stdout",
     "output_type": "stream",
     "text": [
      "Hello\n",
      "Hello MIR\n"
     ]
    }
   ],
   "source": [
    "origin = \"Hello\"\n",
    "print(origin)\n",
    "new = origin + \" MIR\"\n",
    "print(new)  \n"
   ]
  },
  {
   "cell_type": "code",
   "execution_count": 74,
   "id": "f2679146-1731-4798-89a5-ed170c7530b9",
   "metadata": {},
   "outputs": [
    {
     "name": "stdout",
     "output_type": "stream",
     "text": [
      "Hello, 123!\n",
      "Hello, MIR!\n"
     ]
    }
   ],
   "source": [
    "origin = \"Hello, 123!\"\n",
    "print(origin)\n",
    "new = origin.replace(\"123\", \"MIR\")\n",
    "print(new)  \n"
   ]
  },
  {
   "cell_type": "markdown",
   "id": "9b09adeb-2742-4c0d-8a2e-6a2b2d6d9e1f",
   "metadata": {},
   "source": [
    "# Глава 8. Вопрос 3.\n",
    "# ` Назовите четыре операции, которые изменяют списковый объект на месте. `"
   ]
  },
  {
   "cell_type": "markdown",
   "id": "078f7a57-b81b-4890-b7a8-6c4e92cd1bb4",
   "metadata": {},
   "source": [
    "# 1. `append():`"
   ]
  },
  {
   "cell_type": "code",
   "execution_count": 8,
   "id": "369ec81e-4b90-4ef9-8367-ae419bf987d9",
   "metadata": {},
   "outputs": [
    {
     "name": "stdout",
     "output_type": "stream",
     "text": [
      "[1, 2, 3, 4]\n"
     ]
    }
   ],
   "source": [
    "list = [1, 2, 3]\n",
    "list.append(4)\n",
    "print(list)  \n"
   ]
  },
  {
   "cell_type": "markdown",
   "id": "43d251c2-dc86-4098-8901-c37784523cec",
   "metadata": {},
   "source": [
    "# 2.`pop`"
   ]
  },
  {
   "cell_type": "code",
   "execution_count": 11,
   "id": "cc740cd5-3575-4dd4-91db-b8fee70698fb",
   "metadata": {},
   "outputs": [
    {
     "name": "stdout",
     "output_type": "stream",
     "text": [
      "[1, 2, 4]\n"
     ]
    }
   ],
   "source": [
    "list.pop(2)\n",
    "print(list)  \n"
   ]
  },
  {
   "cell_type": "markdown",
   "id": "6ca0a882-89af-4145-b1ad-1601ec0437f6",
   "metadata": {},
   "source": [
    "# 3. `reverse()`"
   ]
  },
  {
   "cell_type": "code",
   "execution_count": 14,
   "id": "c003dd6d-0965-4c42-ae07-359ee2a37a2c",
   "metadata": {},
   "outputs": [
    {
     "name": "stdout",
     "output_type": "stream",
     "text": [
      "[4, 2, 1]\n"
     ]
    }
   ],
   "source": [
    "list.reverse()\n",
    "print(list)"
   ]
  },
  {
   "cell_type": "markdown",
   "id": "c95e75f7-14d1-427a-b506-3f2b6ad191bf",
   "metadata": {},
   "source": [
    "# 4. `remove()` (удаление первого вхождения элемента)"
   ]
  },
  {
   "cell_type": "code",
   "execution_count": 20,
   "id": "51cb4f37-0880-43e5-a4c7-9e9792389fba",
   "metadata": {},
   "outputs": [
    {
     "name": "stdout",
     "output_type": "stream",
     "text": [
      "[1, 2, 4, 3, 5, 3]\n"
     ]
    }
   ],
   "source": [
    "list2 = [1,2,3,4,3,5,3]\n",
    "list2.remove(3)\n",
    "print(list2)"
   ]
  },
  {
   "cell_type": "markdown",
   "id": "51968f60-8ee7-4506-9840-7e254291535c",
   "metadata": {},
   "source": [
    "# Глава 9. Вопрос 7.\n",
    "# `В чем заключается ваша цель?`"
   ]
  },
  {
   "cell_type": "markdown",
   "id": "05866d3a-69b2-404e-bd49-4b98a9b238e5",
   "metadata": {},
   "source": [
    "Можно много написать про мою цель и написать бонально изучение Python, но основная цель всеже как можно больше набить руку и саморазвиться в этом."
   ]
  },
  {
   "cell_type": "code",
   "execution_count": null,
   "id": "e4d1615c-8849-4c27-bbc4-cdb919f660a2",
   "metadata": {},
   "outputs": [],
   "source": []
  }
 ],
 "metadata": {
  "kernelspec": {
   "display_name": "Python 3 (ipykernel)",
   "language": "python",
   "name": "python3"
  },
  "language_info": {
   "codemirror_mode": {
    "name": "ipython",
    "version": 3
   },
   "file_extension": ".py",
   "mimetype": "text/x-python",
   "name": "python",
   "nbconvert_exporter": "python",
   "pygments_lexer": "ipython3",
   "version": "3.12.7"
  }
 },
 "nbformat": 4,
 "nbformat_minor": 5
}
