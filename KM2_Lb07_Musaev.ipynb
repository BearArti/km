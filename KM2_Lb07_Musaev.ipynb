{
 "cells": [
  {
   "cell_type": "markdown",
   "id": "7d4ff1d9-21aa-4650-8766-b18c3c981a0f",
   "metadata": {},
   "source": [
    "# Лабораторная работа 7\n",
    "# Построение бинарного дерева поиска. Подсчет количества элементов в дереве"
   ]
  },
  {
   "cell_type": "markdown",
   "id": "4587c33d-b553-43a9-b45a-d6224925809a",
   "metadata": {},
   "source": [
    "## Мусаев Артём Азадович, 24.05.2025"
   ]
  },
  {
   "cell_type": "markdown",
   "id": "b2f28579-36b7-4082-a8cc-e646a47cabc1",
   "metadata": {},
   "source": [
    "# Задание 7.1 Определение классов"
   ]
  },
  {
   "cell_type": "code",
   "execution_count": 5,
   "id": "0192acda-41b7-4c91-9100-0f569db4cd3c",
   "metadata": {},
   "outputs": [],
   "source": [
    "class EmptyNode: # определяет шаблон для создания объекта, представляющего \"пустой\" элемент (вершину) бинарного дерева поиска без значения и без поддеревьев        \n",
    "    def __repr__(self): # Метод строкового представления\n",
    "        return '*' # возвращает один символ *\n",
    "    \n",
    "    def insert(self, value): # метод вставки в пустую вершину новой вершины со значением value\n",
    "        return BinaryNode(self, value, self) # возвращает новый экземпляр класса BinaryNode со значением value"
   ]
  },
  {
   "cell_type": "code",
   "execution_count": 6,
   "id": "9a5f11d0-0c1d-4dfc-be27-7c279854bbe2",
   "metadata": {},
   "outputs": [
    {
     "name": "stdout",
     "output_type": "stream",
     "text": [
      "*\n"
     ]
    }
   ],
   "source": [
    "print(EmptyNode())"
   ]
  },
  {
   "cell_type": "code",
   "execution_count": 2,
   "id": "9a59eaf8-5bdd-40ed-bf04-42b58beaeca4",
   "metadata": {},
   "outputs": [],
   "source": [
    "class BinaryTree:\n",
    "    # Инициализирует бинарное дерево\n",
    "    def __init__(self):\n",
    "        # Корневой узел дерева устанавливается как пустой узел\n",
    "        self.root = EmptyNode()\n",
    "\n",
    "    # Возвращает строковое представление дерева\n",
    "    def __repr__(self):\n",
    "        # Используется функция repr() для получения строкового представления корневого узла\n",
    "        return repr(self.root)\n",
    "\n",
    "    # Вставляет значение в дерево\n",
    "    def insert(self, value):\n",
    "        # Метод insert() корневого узла выполняет вставку значения в дерево\n",
    "        self.root = self.root.insert(value)"
   ]
  },
  {
   "cell_type": "code",
   "execution_count": 8,
   "id": "a292bff1-d52b-4935-9c35-0fe85009f0c0",
   "metadata": {},
   "outputs": [
    {
     "name": "stdout",
     "output_type": "stream",
     "text": [
      "*\n"
     ]
    }
   ],
   "source": [
    "print(BinaryTree())"
   ]
  },
  {
   "cell_type": "code",
   "execution_count": 10,
   "id": "80d77c14-6031-4b20-b741-671cb4426b2e",
   "metadata": {},
   "outputs": [],
   "source": [
    "class BinaryNode:\n",
    "    # Инициализирует узел бинарного дерева\n",
    "    def __init__(self, left, value, right):\n",
    "        # Устанавливает левый дочерний узел\n",
    "        self.left = left\n",
    "        # Устанавливает значение узла\n",
    "        self.value = value\n",
    "        # Устанавливает правый дочерний узел\n",
    "        self.right = right\n",
    "\n",
    "    # Возвращает строковое представление узла\n",
    "    def __repr__(self):\n",
    "        # Форматирует строку, включающую значения левого, правого дочерних узлов и значения самого узла\n",
    "        return f'({self.left}, {self.value}, {self.right})'\n",
    "    def insert(self, value):\n",
    "        if value < self.value:\n",
    "            self.left = self.left.insert(value) # Если вставляемое значение меньше текущего узла,рекурсивно вставляем его в левое поддерево\n",
    "        elif value > self.value:\n",
    "            self.right = self.right.insert(value) # Если вставляемое значение больше текущего узла, рекурсивно вставляем его в правое поддерево\n",
    "    \n",
    "        return self"
   ]
  },
  {
   "cell_type": "markdown",
   "id": "6818ee84-aee7-4145-8442-20fe8158c641",
   "metadata": {},
   "source": [
    "## Задание 7.2 Метод вставки элемента в бинарное дерево поиска"
   ]
  },
  {
   "cell_type": "code",
   "execution_count": 13,
   "id": "9ead5549-dbb4-43b3-9996-d382e3a3932e",
   "metadata": {},
   "outputs": [],
   "source": [
    "class BinaryNode: \n",
    "    def __init__(self, left, value, right): \n",
    "        self.left = left \n",
    "        self.value = value \n",
    "        self.right = right \n",
    "        \n",
    "    def __repr__(self): \n",
    "        return f'({self.left}, {self.value}, {self.right})' \n",
    "    def insert(self, value):\n",
    "        if self.value:\n",
    "            if value > self.value or value == self.value:\n",
    "                self.right = self.right.insert(value)\n",
    "            else:\n",
    "                self.left = self.left.insert(value)\n",
    "            return self\n",
    "        "
   ]
  },
  {
   "cell_type": "code",
   "execution_count": 15,
   "id": "56d5a0f6-0501-43a9-b65c-054065495dc0",
   "metadata": {},
   "outputs": [
    {
     "name": "stdout",
     "output_type": "stream",
     "text": [
      "(*, 13, *)\n",
      "(*, 13, (*, 13, *))\n",
      "(*, 13, (*, 13, (*, 13, *)))\n",
      "(*, 13, (*, 13, (*, 13, (*, 22, *))))\n",
      "(*, 13, (*, 13, (*, 13, (*, 22, (*, 22, *)))))\n",
      "(*, 13, (*, 13, (*, 13, (*, 22, (*, 22, (*, 22, *))))))\n",
      "((*, 11, *), 13, (*, 13, (*, 13, (*, 22, (*, 22, (*, 22, *))))))\n",
      "((*, 11, (*, 11, *)), 13, (*, 13, (*, 13, (*, 22, (*, 22, (*, 22, *))))))\n",
      "(((*, 1, *), 11, (*, 11, *)), 13, (*, 13, (*, 13, (*, 22, (*, 22, (*, 22, *))))))\n",
      "(((*, 1, *), 11, (*, 11, *)), 13, (*, 13, (*, 13, (*, 22, (*, 22, (*, 22, *))))))\n"
     ]
    }
   ],
   "source": [
    "list = [13,13,13,22,22,22,11,11,1]\n",
    "tree = BinaryTree()\n",
    "\n",
    "for i in list:\n",
    "    tree.insert(i)\n",
    "    print(tree)\n",
    "print(tree)"
   ]
  },
  {
   "cell_type": "code",
   "execution_count": 16,
   "id": "38f3bd16-082c-446b-ac8b-053d75cc60b5",
   "metadata": {},
   "outputs": [
    {
     "name": "stdout",
     "output_type": "stream",
     "text": [
      "(*, e, *)\n",
      "(*, e, (*, y, *))\n",
      "(*, e, ((*, e, *), y, *))\n",
      "(*, e, ((*, e, (*, s, *)), y, *))\n",
      "(*, e, ((*, e, ((*, r, *), s, *)), y, *))\n",
      "(*, e, ((*, e, (((*, e, *), r, *), s, *)), y, *))\n",
      "((*, a, *), e, ((*, e, (((*, e, *), r, *), s, *)), y, *))\n",
      "((*, a, *), e, ((*, e, (((*, e, (*, l, *)), r, *), s, *)), y, *))\n",
      "((*, a, *), e, ((*, e, (((*, e, ((*, i, *), l, *)), r, *), s, *)), y, *))\n",
      "((*, a, *), e, ((*, e, (((*, e, ((*, i, *), l, *)), r, *), s, *)), y, (*, z, *)))\n",
      "((*, a, *), e, ((*, e, (((*, e, (((*, e, *), i, *), l, *)), r, *), s, *)), y, (*, z, *)))\n"
     ]
    }
   ],
   "source": [
    "test = BinaryTree()\n",
    "for i in 'eyesrealize':\n",
    "    test.insert(i)\n",
    "    print(test)"
   ]
  },
  {
   "cell_type": "code",
   "execution_count": 20,
   "id": "b56ef7da-f751-4f0e-a8c7-b01804047eb4",
   "metadata": {},
   "outputs": [
    {
     "name": "stdout",
     "output_type": "stream",
     "text": [
      "(*, 1, *)\n",
      "(*, 1, (*, 2, *))\n",
      "(*, 1, (*, 2, (*, 3, *)))\n",
      "(*, 1, (*, 2, (*, 3, (*, 4, *))))\n",
      "(*, 1, (*, 2, (*, 3, (*, 4, (*, 5, *)))))\n",
      "(*, 1, (*, 2, (*, 3, (*, 4, (*, 5, (*, 6, *))))))\n"
     ]
    }
   ],
   "source": [
    "da = range(1,7)\n",
    "tree1 = BinaryTree()\n",
    "\n",
    "for i in da:\n",
    "    tree1.insert(i)\n",
    "    print(tree1)\n"
   ]
  },
  {
   "cell_type": "markdown",
   "id": "ffd832f4-f6b4-4ef3-89ca-7d2f21ccaf93",
   "metadata": {},
   "source": [
    "## Задание 7.3 Построение бинарного дерева поиска"
   ]
  },
  {
   "cell_type": "code",
   "execution_count": 21,
   "id": "149a4b1b-af4e-45bb-8e97-8320464dec3f",
   "metadata": {},
   "outputs": [],
   "source": [
    "import random"
   ]
  },
  {
   "cell_type": "code",
   "execution_count": 22,
   "id": "9b8dd514-dbbb-4049-b378-cd34995821a1",
   "metadata": {},
   "outputs": [],
   "source": [
    "f = open('column1.txt', 'w', encoding='utf-8')\n",
    "for i in range(20):\n",
    "    f.write(str(random.randint(10,15)) + '\\n')\n",
    "f.close()"
   ]
  },
  {
   "cell_type": "code",
   "execution_count": 23,
   "id": "0c57c18e-e332-4173-a6a9-679648d09962",
   "metadata": {},
   "outputs": [],
   "source": [
    "f = open('column1.txt', 'r', encoding='utf-8')\n",
    "data = [x.strip('\\n') for x in f.readlines()]\n",
    "f.close()"
   ]
  },
  {
   "cell_type": "code",
   "execution_count": 24,
   "id": "63c48799-6986-4767-a055-bf609d912bb9",
   "metadata": {},
   "outputs": [
    {
     "name": "stdout",
     "output_type": "stream",
     "text": [
      "(*, 11, *)\n",
      "(*, 11, (*, 12, *))\n",
      "(*, 11, (*, 12, (*, 14, *)))\n",
      "((*, 10, *), 11, (*, 12, (*, 14, *)))\n",
      "((*, 10, (*, 10, *)), 11, (*, 12, (*, 14, *)))\n",
      "((*, 10, (*, 10, *)), 11, ((*, 11, *), 12, (*, 14, *)))\n",
      "((*, 10, (*, 10, *)), 11, ((*, 11, *), 12, ((*, 13, *), 14, *)))\n",
      "((*, 10, (*, 10, *)), 11, ((*, 11, *), 12, ((*, 13, *), 14, (*, 15, *))))\n",
      "((*, 10, (*, 10, (*, 10, *))), 11, ((*, 11, *), 12, ((*, 13, *), 14, (*, 15, *))))\n",
      "((*, 10, (*, 10, (*, 10, *))), 11, ((*, 11, *), 12, (((*, 12, *), 13, *), 14, (*, 15, *))))\n",
      "((*, 10, (*, 10, (*, 10, *))), 11, ((*, 11, (*, 11, *)), 12, (((*, 12, *), 13, *), 14, (*, 15, *))))\n",
      "((*, 10, (*, 10, (*, 10, *))), 11, ((*, 11, (*, 11, (*, 11, *))), 12, (((*, 12, *), 13, *), 14, (*, 15, *))))\n",
      "((*, 10, (*, 10, (*, 10, *))), 11, ((*, 11, (*, 11, (*, 11, *))), 12, (((*, 12, *), 13, *), 14, ((*, 14, *), 15, *))))\n",
      "((*, 10, (*, 10, (*, 10, *))), 11, ((*, 11, (*, 11, (*, 11, *))), 12, (((*, 12, *), 13, (*, 13, *)), 14, ((*, 14, *), 15, *))))\n",
      "((*, 10, (*, 10, (*, 10, *))), 11, ((*, 11, (*, 11, (*, 11, *))), 12, (((*, 12, *), 13, (*, 13, (*, 13, *))), 14, ((*, 14, *), 15, *))))\n",
      "((*, 10, (*, 10, (*, 10, (*, 10, *)))), 11, ((*, 11, (*, 11, (*, 11, *))), 12, (((*, 12, *), 13, (*, 13, (*, 13, *))), 14, ((*, 14, *), 15, *))))\n",
      "((*, 10, (*, 10, (*, 10, (*, 10, (*, 10, *))))), 11, ((*, 11, (*, 11, (*, 11, *))), 12, (((*, 12, *), 13, (*, 13, (*, 13, *))), 14, ((*, 14, *), 15, *))))\n",
      "((*, 10, (*, 10, (*, 10, (*, 10, (*, 10, *))))), 11, ((*, 11, (*, 11, (*, 11, *))), 12, (((*, 12, *), 13, (*, 13, (*, 13, *))), 14, ((*, 14, (*, 14, *)), 15, *))))\n",
      "((*, 10, (*, 10, (*, 10, (*, 10, (*, 10, *))))), 11, ((*, 11, (*, 11, (*, 11, (*, 11, *)))), 12, (((*, 12, *), 13, (*, 13, (*, 13, *))), 14, ((*, 14, (*, 14, *)), 15, *))))\n",
      "((*, 10, (*, 10, (*, 10, (*, 10, (*, 10, *))))), 11, ((*, 11, (*, 11, (*, 11, (*, 11, *)))), 12, (((*, 12, *), 13, (*, 13, (*, 13, *))), 14, ((*, 14, (*, 14, *)), 15, (*, 15, *)))))\n"
     ]
    }
   ],
   "source": [
    "tree_test1 = BinaryTree()\n",
    "for i in data:\n",
    "    tree_test1.insert(i)\n",
    "    print(tree_test1)"
   ]
  },
  {
   "cell_type": "code",
   "execution_count": 25,
   "id": "5db265d4-cdb1-4bf9-813a-5f77cedf22f4",
   "metadata": {},
   "outputs": [],
   "source": [
    "f = open('column_row.txt', 'w', encoding='utf-8')\n",
    "for i in range(5):\n",
    "    for _ in range(5):\n",
    "        f.write(str(random.randint(3,9)))\n",
    "        if _ != 4: \n",
    "            f.write(' ')\n",
    "    f.write('\\n')\n",
    "f.close()"
   ]
  },
  {
   "cell_type": "code",
   "execution_count": 26,
   "id": "ae7a0107-6754-4b1f-9057-654169f2400f",
   "metadata": {},
   "outputs": [],
   "source": [
    "f = open('column_row.txt', 'r', encoding='utf-8')\n",
    "column_row = [line.strip('\\n').split(' ') for line in f.readlines()]\n",
    "f.close()\n",
    "data2 = []\n",
    "for x in column_row:\n",
    "    data2 += x"
   ]
  },
  {
   "cell_type": "code",
   "execution_count": 27,
   "id": "a9603a23-e860-4ea9-b45a-91edc6836f2a",
   "metadata": {},
   "outputs": [
    {
     "name": "stdout",
     "output_type": "stream",
     "text": [
      "(*, 3, *)\n",
      "(*, 3, (*, 4, *))\n",
      "(*, 3, (*, 4, (*, 7, *)))\n",
      "(*, 3, (*, 4, ((*, 5, *), 7, *)))\n",
      "(*, 3, (*, 4, ((*, 5, *), 7, (*, 9, *))))\n",
      "(*, 3, (*, 4, ((*, 5, *), 7, (*, 9, (*, 9, *)))))\n",
      "(*, 3, (*, 4, ((*, 5, *), 7, ((*, 8, *), 9, (*, 9, *)))))\n",
      "(*, 3, (*, 4, (((*, 4, *), 5, *), 7, ((*, 8, *), 9, (*, 9, *)))))\n",
      "(*, 3, (*, 4, (((*, 4, *), 5, *), 7, ((*, 8, (*, 8, *)), 9, (*, 9, *)))))\n",
      "(*, 3, (*, 4, (((*, 4, *), 5, (*, 6, *)), 7, ((*, 8, (*, 8, *)), 9, (*, 9, *)))))\n",
      "(*, 3, (*, 4, (((*, 4, *), 5, (*, 6, (*, 6, *))), 7, ((*, 8, (*, 8, *)), 9, (*, 9, *)))))\n",
      "(*, 3, (*, 4, (((*, 4, (*, 4, *)), 5, (*, 6, (*, 6, *))), 7, ((*, 8, (*, 8, *)), 9, (*, 9, *)))))\n",
      "(*, 3, (*, 4, (((*, 4, (*, 4, *)), 5, (*, 6, (*, 6, (*, 6, *)))), 7, ((*, 8, (*, 8, *)), 9, (*, 9, *)))))\n",
      "(*, 3, (*, 4, (((*, 4, (*, 4, *)), 5, ((*, 5, *), 6, (*, 6, (*, 6, *)))), 7, ((*, 8, (*, 8, *)), 9, (*, 9, *)))))\n",
      "(*, 3, (*, 4, (((*, 4, (*, 4, *)), 5, ((*, 5, *), 6, (*, 6, (*, 6, *)))), 7, ((*, 8, (*, 8, (*, 8, *))), 9, (*, 9, *)))))\n",
      "(*, 3, ((*, 3, *), 4, (((*, 4, (*, 4, *)), 5, ((*, 5, *), 6, (*, 6, (*, 6, *)))), 7, ((*, 8, (*, 8, (*, 8, *))), 9, (*, 9, *)))))\n",
      "(*, 3, ((*, 3, *), 4, (((*, 4, (*, 4, *)), 5, ((*, 5, *), 6, (*, 6, (*, 6, *)))), 7, ((*, 8, (*, 8, (*, 8, *))), 9, (*, 9, (*, 9, *))))))\n",
      "(*, 3, ((*, 3, *), 4, (((*, 4, (*, 4, *)), 5, ((*, 5, *), 6, (*, 6, (*, 6, *)))), 7, (((*, 7, *), 8, (*, 8, (*, 8, *))), 9, (*, 9, (*, 9, *))))))\n",
      "(*, 3, ((*, 3, *), 4, (((*, 4, (*, 4, (*, 4, *))), 5, ((*, 5, *), 6, (*, 6, (*, 6, *)))), 7, (((*, 7, *), 8, (*, 8, (*, 8, *))), 9, (*, 9, (*, 9, *))))))\n",
      "(*, 3, ((*, 3, *), 4, (((*, 4, (*, 4, (*, 4, *))), 5, ((*, 5, (*, 5, *)), 6, (*, 6, (*, 6, *)))), 7, (((*, 7, *), 8, (*, 8, (*, 8, *))), 9, (*, 9, (*, 9, *))))))\n",
      "(*, 3, ((*, 3, *), 4, (((*, 4, (*, 4, (*, 4, *))), 5, ((*, 5, (*, 5, (*, 5, *))), 6, (*, 6, (*, 6, *)))), 7, (((*, 7, *), 8, (*, 8, (*, 8, *))), 9, (*, 9, (*, 9, *))))))\n",
      "(*, 3, ((*, 3, *), 4, (((*, 4, (*, 4, (*, 4, *))), 5, ((*, 5, (*, 5, (*, 5, (*, 5, *)))), 6, (*, 6, (*, 6, *)))), 7, (((*, 7, *), 8, (*, 8, (*, 8, *))), 9, (*, 9, (*, 9, *))))))\n",
      "(*, 3, ((*, 3, *), 4, (((*, 4, (*, 4, (*, 4, *))), 5, ((*, 5, (*, 5, (*, 5, (*, 5, *)))), 6, (*, 6, (*, 6, *)))), 7, (((*, 7, *), 8, (*, 8, (*, 8, (*, 8, *)))), 9, (*, 9, (*, 9, *))))))\n",
      "(*, 3, ((*, 3, *), 4, (((*, 4, (*, 4, (*, 4, (*, 4, *)))), 5, ((*, 5, (*, 5, (*, 5, (*, 5, *)))), 6, (*, 6, (*, 6, *)))), 7, (((*, 7, *), 8, (*, 8, (*, 8, (*, 8, *)))), 9, (*, 9, (*, 9, *))))))\n",
      "(*, 3, ((*, 3, *), 4, (((*, 4, (*, 4, (*, 4, (*, 4, *)))), 5, ((*, 5, (*, 5, (*, 5, (*, 5, *)))), 6, (*, 6, (*, 6, (*, 6, *))))), 7, (((*, 7, *), 8, (*, 8, (*, 8, (*, 8, *)))), 9, (*, 9, (*, 9, *))))))\n"
     ]
    }
   ],
   "source": [
    "tree_test2 = BinaryTree()\n",
    "for i in data2:\n",
    "    tree_test2.insert(i)\n",
    "    print(tree_test2)"
   ]
  },
  {
   "cell_type": "code",
   "execution_count": 28,
   "id": "a88e47be-ee06-4cff-9d43-82955dff50ae",
   "metadata": {},
   "outputs": [],
   "source": [
    "import json"
   ]
  },
  {
   "cell_type": "code",
   "execution_count": 29,
   "id": "d6c2cb63-89c0-4a65-b39c-5b9061478b15",
   "metadata": {},
   "outputs": [
    {
     "data": {
      "text/plain": [
       "'4 4 8 3 7 4 6 9 4 8 6 4 7 6 9 7 9 8 8 6'"
      ]
     },
     "execution_count": 29,
     "metadata": {},
     "output_type": "execute_result"
    }
   ],
   "source": [
    "data3 = []\n",
    "for i in range(20):\n",
    "    data3.append(random.randint(3,9))\n",
    "    \n",
    "data3_str = ' '.join(str(num) for num in data3)\n",
    "data3_str"
   ]
  },
  {
   "cell_type": "code",
   "execution_count": 30,
   "id": "1f46bd14-68cd-4e2c-8457-f17e91a51fce",
   "metadata": {},
   "outputs": [],
   "source": [
    "f = open('digits_json.json', 'w', encoding='utf-8')\n",
    "json.dump(data, f)\n",
    "f.close()"
   ]
  },
  {
   "cell_type": "code",
   "execution_count": 31,
   "id": "a86c583a-dcdf-4df4-bb04-163d0192e4b7",
   "metadata": {},
   "outputs": [],
   "source": [
    "with open(\"digits_json.json\", \"r\") as f3:\n",
    "    test_json = json.load(f3)\n",
    "test_json = [int(x) for x in test_json]"
   ]
  },
  {
   "cell_type": "code",
   "execution_count": 32,
   "id": "c46d8713-bec4-445b-b5bf-34f8ee3d4a0e",
   "metadata": {},
   "outputs": [
    {
     "name": "stdout",
     "output_type": "stream",
     "text": [
      "(*, 11, *)\n",
      "(*, 11, (*, 12, *))\n",
      "(*, 11, (*, 12, (*, 14, *)))\n",
      "((*, 10, *), 11, (*, 12, (*, 14, *)))\n",
      "((*, 10, (*, 10, *)), 11, (*, 12, (*, 14, *)))\n",
      "((*, 10, (*, 10, *)), 11, ((*, 11, *), 12, (*, 14, *)))\n",
      "((*, 10, (*, 10, *)), 11, ((*, 11, *), 12, ((*, 13, *), 14, *)))\n",
      "((*, 10, (*, 10, *)), 11, ((*, 11, *), 12, ((*, 13, *), 14, (*, 15, *))))\n",
      "((*, 10, (*, 10, (*, 10, *))), 11, ((*, 11, *), 12, ((*, 13, *), 14, (*, 15, *))))\n",
      "((*, 10, (*, 10, (*, 10, *))), 11, ((*, 11, *), 12, (((*, 12, *), 13, *), 14, (*, 15, *))))\n",
      "((*, 10, (*, 10, (*, 10, *))), 11, ((*, 11, (*, 11, *)), 12, (((*, 12, *), 13, *), 14, (*, 15, *))))\n",
      "((*, 10, (*, 10, (*, 10, *))), 11, ((*, 11, (*, 11, (*, 11, *))), 12, (((*, 12, *), 13, *), 14, (*, 15, *))))\n",
      "((*, 10, (*, 10, (*, 10, *))), 11, ((*, 11, (*, 11, (*, 11, *))), 12, (((*, 12, *), 13, *), 14, ((*, 14, *), 15, *))))\n",
      "((*, 10, (*, 10, (*, 10, *))), 11, ((*, 11, (*, 11, (*, 11, *))), 12, (((*, 12, *), 13, (*, 13, *)), 14, ((*, 14, *), 15, *))))\n",
      "((*, 10, (*, 10, (*, 10, *))), 11, ((*, 11, (*, 11, (*, 11, *))), 12, (((*, 12, *), 13, (*, 13, (*, 13, *))), 14, ((*, 14, *), 15, *))))\n",
      "((*, 10, (*, 10, (*, 10, (*, 10, *)))), 11, ((*, 11, (*, 11, (*, 11, *))), 12, (((*, 12, *), 13, (*, 13, (*, 13, *))), 14, ((*, 14, *), 15, *))))\n",
      "((*, 10, (*, 10, (*, 10, (*, 10, (*, 10, *))))), 11, ((*, 11, (*, 11, (*, 11, *))), 12, (((*, 12, *), 13, (*, 13, (*, 13, *))), 14, ((*, 14, *), 15, *))))\n",
      "((*, 10, (*, 10, (*, 10, (*, 10, (*, 10, *))))), 11, ((*, 11, (*, 11, (*, 11, *))), 12, (((*, 12, *), 13, (*, 13, (*, 13, *))), 14, ((*, 14, (*, 14, *)), 15, *))))\n",
      "((*, 10, (*, 10, (*, 10, (*, 10, (*, 10, *))))), 11, ((*, 11, (*, 11, (*, 11, (*, 11, *)))), 12, (((*, 12, *), 13, (*, 13, (*, 13, *))), 14, ((*, 14, (*, 14, *)), 15, *))))\n",
      "((*, 10, (*, 10, (*, 10, (*, 10, (*, 10, *))))), 11, ((*, 11, (*, 11, (*, 11, (*, 11, *)))), 12, (((*, 12, *), 13, (*, 13, (*, 13, *))), 14, ((*, 14, (*, 14, *)), 15, (*, 15, *)))))\n"
     ]
    }
   ],
   "source": [
    "tree_test3 = BinaryTree()\n",
    "for i in test_json:\n",
    "    tree_test3.insert(i)\n",
    "    print(tree_test3)"
   ]
  },
  {
   "cell_type": "markdown",
   "id": "3b74926a-72dd-4bf9-88ba-32e81d689fab",
   "metadata": {},
   "source": [
    "## 7.4 Перегрузка операции принадлежности in"
   ]
  },
  {
   "cell_type": "code",
   "execution_count": 33,
   "id": "08186a17-a7f7-448e-8c0b-9fa3bcabf09a",
   "metadata": {},
   "outputs": [],
   "source": [
    "class BinaryTree:\n",
    "    def __init__(self):\n",
    "        self.root = EmptyNode()\n",
    "        \n",
    "    def __repr__(self):\n",
    "        return repr(self.root)\n",
    "        \n",
    "    def insert(self, value):\n",
    "        self.root = self.root.insert(value)\n",
    "        \n",
    "    def __contains__(self, value):\n",
    "        return (value in self.root)"
   ]
  },
  {
   "cell_type": "code",
   "execution_count": 34,
   "id": "75630497-92b4-4cfd-8580-6d9d12126f82",
   "metadata": {},
   "outputs": [],
   "source": [
    "class EmptyNode:        \n",
    "    def __repr__(self):\n",
    "        return \"*\"\n",
    "    \n",
    "    def insert(self, value):\n",
    "        return BinaryNode(self, value, self)\n",
    "    \n",
    "    def __contains__(self, value):\n",
    "        return False"
   ]
  },
  {
   "cell_type": "code",
   "execution_count": 36,
   "id": "4e963fd1-174e-423f-863e-bc877288c883",
   "metadata": {},
   "outputs": [],
   "source": [
    "class BinaryNode:\n",
    "    def __init__(self, left, value, right):\n",
    "        self.left = left\n",
    "        self.value = value\n",
    "        self.right = right\n",
    "        \n",
    "    def __repr__(self):\n",
    "        return f'({self.left}, {self.value}, {self.right})'\n",
    "        \n",
    "    def insert(self, value):\n",
    "        if value < self.value:\n",
    "            if isinstance(self.left, EmptyNode):\n",
    "                self.left = BinaryNode(EmptyNode(), value, EmptyNode())\n",
    "            else:\n",
    "                self.left.insert(value)\n",
    "                \n",
    "        elif value > self.value:\n",
    "            if isinstance(self.right, EmptyNode):\n",
    "                self.right = BinaryNode(EmptyNode(), value, EmptyNode())\n",
    "            else:\n",
    "                self.right.insert(value)\n",
    "        return self\n",
    "        \n",
    "    def __contains__(self, value):\n",
    "        if value == self.value:\n",
    "            return True\n",
    "        elif value < self.value:\n",
    "            return self.left.__contains__(value)\n",
    "        else:  \n",
    "            return self.right.__contains__(value)"
   ]
  },
  {
   "cell_type": "code",
   "execution_count": 37,
   "id": "1633a1c1-48d4-419c-8705-d3641c0d5a7a",
   "metadata": {},
   "outputs": [
    {
     "name": "stdout",
     "output_type": "stream",
     "text": [
      "(*, 5, *)\n",
      "((*, 1, *), 5, *)\n",
      "((*, 1, *), 5, (*, 10, *))\n",
      "((*, 1, (*, 3, *)), 5, (*, 10, *))\n",
      "((*, 1, (*, 3, (*, 4, *))), 5, (*, 10, *))\n",
      "(0, False) (1, True) (2, False) (3, True) (4, True) (5, True) (6, False) (7, False) (8, False) (9, False) "
     ]
    }
   ],
   "source": [
    "source_data = [5,1,10,3,4]\n",
    "tree = BinaryTree()\n",
    "for i in source_data:\n",
    " tree.insert(i)\n",
    " print(tree)\n",
    "for i in range(10):\n",
    " print((i, i in tree), end = ' ')\n"
   ]
  },
  {
   "cell_type": "markdown",
   "id": "23efb243-76a7-4916-a8d7-e93620f5430a",
   "metadata": {},
   "source": [
    "## 7.5 Перегрузка встроенной функции len"
   ]
  },
  {
   "cell_type": "code",
   "execution_count": 38,
   "id": "d4c14ee3-080e-4d13-a89f-cb14d6c5ce22",
   "metadata": {},
   "outputs": [],
   "source": [
    "class BinaryTree:\n",
    "    def __init__(self):\n",
    "        self.root = EmptyNode()\n",
    "        \n",
    "    def __repr__(self):\n",
    "        return repr(self.root)\n",
    "        \n",
    "    def insert(self, value):\n",
    "        self.root = self.root.insert(value)\n",
    "        \n",
    "    def __contains__(self, value):\n",
    "        return self.root.__contains__(value)\n",
    "\n",
    "    def __len__(self):\n",
    "        return len(self.root) - 1"
   ]
  },
  {
   "cell_type": "code",
   "execution_count": 39,
   "id": "48865dff-e898-40f6-ade7-0f50ccafff56",
   "metadata": {},
   "outputs": [],
   "source": [
    "class EmptyNode:\n",
    "    def __repr__(self):\n",
    "        return '_'\n",
    "    def insert(self, value):\n",
    "        return BinaryNode(self, value, self)\n",
    "    def __contains__(self, value):\n",
    "        return False\n",
    "    def __len__(self):\n",
    "        return 1"
   ]
  },
  {
   "cell_type": "code",
   "execution_count": 40,
   "id": "e16c02d8-7c5c-4b62-9dd5-7cc5efc655be",
   "metadata": {},
   "outputs": [],
   "source": [
    "class BinaryNode:\n",
    "    def __init__(self, left, value, right):\n",
    "        self.left = left\n",
    "        self.value = value\n",
    "        self.right = right\n",
    "        \n",
    "    def __repr__(self):\n",
    "        return f'({self.left}, {self.value}, {self.right})'\n",
    "        \n",
    "    def insert(self, value):\n",
    "        if value < self.value:\n",
    "            if isinstance(self.left, EmptyNode):\n",
    "                self.left = BinaryNode(EmptyNode(), value, EmptyNode())\n",
    "            else:\n",
    "                self.left.insert(value)\n",
    "                \n",
    "        elif value > self.value:\n",
    "            if isinstance(self.right, EmptyNode):\n",
    "                self.right = BinaryNode(EmptyNode(), value, EmptyNode())\n",
    "            else:\n",
    "                self.right.insert(value)\n",
    "        return self\n",
    "        \n",
    "    def __contains__(self, value):\n",
    "        if value == self.value:\n",
    "            return True\n",
    "        elif value < self.value:\n",
    "            return self.left.__contains__(value)\n",
    "        else:  \n",
    "            return self.right.__contains__(value)\n",
    "        \n",
    "    def __len__(self):\n",
    "        return len(self.left) + len(self.right)"
   ]
  },
  {
   "cell_type": "code",
   "execution_count": 41,
   "id": "575852e0-37d4-434d-aef4-40cf7a785a53",
   "metadata": {},
   "outputs": [
    {
     "data": {
      "text/plain": [
       "5"
      ]
     },
     "execution_count": 41,
     "metadata": {},
     "output_type": "execute_result"
    }
   ],
   "source": [
    "tree = BinaryTree()\n",
    "for i in source_data:\n",
    " tree.insert(i)\n",
    "len(tree)\n"
   ]
  },
  {
   "cell_type": "code",
   "execution_count": null,
   "id": "63b1053b-6108-447f-9095-99fbe3c07e58",
   "metadata": {},
   "outputs": [],
   "source": []
  }
 ],
 "metadata": {
  "kernelspec": {
   "display_name": "Python 3 (ipykernel)",
   "language": "python",
   "name": "python3"
  },
  "language_info": {
   "codemirror_mode": {
    "name": "ipython",
    "version": 3
   },
   "file_extension": ".py",
   "mimetype": "text/x-python",
   "name": "python",
   "nbconvert_exporter": "python",
   "pygments_lexer": "ipython3",
   "version": "3.10.16"
  }
 },
 "nbformat": 4,
 "nbformat_minor": 5
}
